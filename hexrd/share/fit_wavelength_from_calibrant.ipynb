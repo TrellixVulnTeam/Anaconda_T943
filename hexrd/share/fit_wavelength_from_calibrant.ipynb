{
 "cells": [
  {
   "cell_type": "markdown",
   "metadata": {},
   "source": [
    "# Assuming that strain is know (ideally 0 as in ruby standard)"
   ]
  },
  {
   "cell_type": "code",
   "execution_count": 9,
   "metadata": {
    "collapsed": false
   },
   "outputs": [],
   "source": [
    "import sys, os\n",
    "\n",
    "import numpy as np\n",
    "from scipy import optimize\n",
    "\n",
    "import cPickle\n",
    "\n",
    "from scipy.stats import chisquare\n",
    "\n",
    "import ipywidgets as widgets\n",
    "from IPython.display import display\n",
    "\n",
    "import yaml\n",
    "from scipy.linalg.matfuncs import logm\n",
    "import scipy.optimize as opt\n",
    "\n",
    "from hexrd import config\n",
    "from hexrd import matrixutil as mutil\n",
    "\n",
    "from hexrd.coreutil import initialize_experiment\n",
    "\n",
    "from hexrd.fitgrains import get_instrument_parameters\n",
    "\n",
    "from hexrd.xrd import distortion as dFuncs\n",
    "from hexrd.xrd import fitting\n",
    "from hexrd.xrd import material\n",
    "from hexrd.xrd import transforms as xf\n",
    "from hexrd.xrd import transforms_CAPI as xfcapi\n",
    "from hexrd.xrd.crystallography import processWavelength\n",
    "from hexrd.xrd.distortion import GE_41RT as distortion_func\n",
    "\n",
    "# parameters\n",
    "kev_conv_fac = processWavelength(1.)\n",
    "bVec_ref = xf.bVec_ref\n",
    "eta_ref = xf.eta_ref\n",
    "vInv_ref = xf.vInv_ref\n",
    "zvec3 = np.zeros(3)"
   ]
  },
  {
   "cell_type": "markdown",
   "metadata": {},
   "source": [
    "# User input parameters"
   ]
  },
  {
   "cell_type": "code",
   "execution_count": 10,
   "metadata": {
    "collapsed": false
   },
   "outputs": [],
   "source": [
    "cfg_filename = 'config.yml'\n",
    "scan_id = 1\n",
    "grain_id = 3"
   ]
  },
  {
   "cell_type": "code",
   "execution_count": 11,
   "metadata": {
    "collapsed": false
   },
   "outputs": [
    {
     "name": "stdout",
     "output_type": "stream",
     "text": [
      "INFO: Analysis name: 'scan_17'\n",
      "INFO: 1365 of 1442 reflections are valid\n",
      "INFO: 1339 of 1365 valid reflections be are below saturation threshold of 14000\n"
     ]
    }
   ],
   "source": [
    "\"\"\"\n",
    "####### BASE CONFIG\n",
    "\"\"\"\n",
    "# read config\n",
    "cfg = config.open(cfg_filename)[scan_id]\n",
    "\n",
    "# crystallography\n",
    "pd, reader, detector = initialize_experiment(cfg)\n",
    "bMat = np.ascontiguousarray(pd.latVecOps['B'])\n",
    "wlen0 = pd.wavelength * 1. # Angstroms\n",
    "en0 = kev_conv_fac/wlen0 # keV\n",
    "\n",
    "# directories and names\n",
    "working_dir = cfg.working_dir\n",
    "analysis_name = cfg.analysis_name\n",
    "analysis_dir = cfg.analysis_dir\n",
    "parfilename = cfg.instrument.parameters\n",
    "spots_filename = os.path.join(analysis_dir, 'spots_%05d.out' % grain_id)\n",
    "\n",
    "print \"INFO: Analysis name: '%s'\" %analysis_name\n",
    "\n",
    "\"\"\"\n",
    "####### INSTRUMENT\n",
    "\"\"\"\n",
    "# config\n",
    "instr_cfg = get_instrument_parameters(cfg)\n",
    "\n",
    "# transform\n",
    "tilt_angles = instr_cfg['detector']['transform']['tilt_angles']\n",
    "rMat_d = xf.makeDetectorRotMat(tilt_angles) \n",
    "tVec_d = instr_cfg['detector']['transform']['t_vec_d']\n",
    "\n",
    "# oscillation stage\n",
    "chi = instr_cfg['oscillation_stage']['chi']\n",
    "tVec_s = instr_cfg['oscillation_stage']['t_vec_s']\n",
    "\n",
    "# distortion\n",
    "distortion_params = instr_cfg['detector']['distortion']['parameters']\n",
    "distortion = (distortion_func, distortion_params)\n",
    "\n",
    "# intensity\n",
    "int_cutoff = instr_cfg['detector']['saturation_level']\n",
    "\n",
    "\"\"\"\n",
    "####### GRAIN\n",
    "\"\"\"\n",
    "# load grain parameters\n",
    "grain_params = np.loadtxt(os.path.join(analysis_dir, 'grains.out'), ndmin=2)[grain_id, :]\n",
    "expMap_c = grain_params[3:6]\n",
    "tVec_c = grain_params[6:9]\n",
    "#vInv_s = grain_params[9:15]\n",
    "vInv_s = np.r_[1., 1., 1., 0., 0., 0.] # reset strains\n",
    "\n",
    "# omega period \n",
    "omePeriod = np.radians(cfg.find_orientations.omega.period)\n",
    "\n",
    "# load reflections\n",
    "refl_table = np.loadtxt(spots_filename) # load pull_spots output table\n",
    "valid_reflections = refl_table[:, 0] >= 0\n",
    "not_saturated = refl_table[:, 6] < int_cutoff\n",
    "print \"INFO: %d of %d reflections are valid\" %(sum(valid_reflections), len(refl_table))\n",
    "print \"INFO: %d of %d valid reflections be are below saturation threshold of %d\" \\\n",
    "    %(sum(not_saturated), sum(valid_reflections), int_cutoff)\n",
    "\n",
    "idx = np.logical_and(valid_reflections, not_saturated) # select valid reflections\n",
    "\n",
    "# strip fields\n",
    "hkls = refl_table[idx, 2:5].T # must be column vectors\n",
    "xyo_det = refl_table[idx, -3:] # these are the cartesian centroids + ome\n",
    "xyo_det[:, 2] = xf.mapAngle(xyo_det[:, 2], omePeriod)\n",
    "\n",
    "nrefl = sum(idx)\n",
    "\n",
    "# parameter list\n",
    "detector_params = fitting.geomParamsToInput(tilt_angles, chi, expMap_c, tVec_d, tVec_s, tVec_c, distortion_params)"
   ]
  },
  {
   "cell_type": "code",
   "execution_count": 12,
   "metadata": {
    "collapsed": false
   },
   "outputs": [
    {
     "name": "stdout",
     "output_type": "stream",
     "text": [
      "Initial wavelength (energy): 0.202200 (61.31768)\n",
      "Optimized wavelength (energy): 0.202332 (61.27745)\n"
     ]
    }
   ],
   "source": [
    "def fit_wavelength(wlen):\n",
    "    \"\"\"\n",
    "    objective function harness for fitting lambda base on grain fits\n",
    "    \"\"\"\n",
    "    g_initial = np.hstack([expMap_c.flatten(), tVec_c.flatten(), vInv_s.flatten()])\n",
    "    gFlag = np.array([np.ones(6), np.zeros(6)], dtype=bool).flatten()\n",
    "\n",
    "    # fit grain with current wavelength\n",
    "    return fitting.objFuncFitGrain(g_initial[gFlag], g_initial, gFlag, \n",
    "                                   detector_params, xyo_det, \n",
    "                                   hkls, bMat, wlen, \n",
    "                                   bVec_ref, eta_ref, \n",
    "                                   distortion_func, distortion_params,\n",
    "                                   omePeriod, simOnly=False)\n",
    "\n",
    "# least squares for wavelength\n",
    "results = optimize.leastsq(fit_wavelength, wlen0)\n",
    "wlen_fit = results[0][0]\n",
    "\n",
    "print \"Initial wavelength (energy): %.6f (%.5f)\\nOptimized wavelength (energy): %.6f (%.5f)\" \\\n",
    "    %(wlen0, kev_conv_fac/wlen0, wlen_fit, kev_conv_fac/wlen_fit)"
   ]
  },
  {
   "cell_type": "code",
   "execution_count": null,
   "metadata": {
    "collapsed": true
   },
   "outputs": [],
   "source": []
  }
 ],
 "metadata": {
  "kernelspec": {
   "display_name": "Python 2",
   "language": "python",
   "name": "python2"
  },
  "language_info": {
   "codemirror_mode": {
    "name": "ipython",
    "version": 2
   },
   "file_extension": ".py",
   "mimetype": "text/x-python",
   "name": "python",
   "nbconvert_exporter": "python",
   "pygments_lexer": "ipython2",
   "version": "2.7.10"
  }
 },
 "nbformat": 4,
 "nbformat_minor": 0
}
