{
 "cells": [
  {
   "cell_type": "markdown",
   "metadata": {},
   "source": [
    "> <i class=\"fa fa-gift fa-2x text-success\"> </i> This is an nbpresent presentation!"
   ]
  },
  {
   "cell_type": "code",
   "execution_count": 5,
   "metadata": {
    "collapsed": true
   },
   "outputs": [],
   "source": [
    "from IPython.display import *"
   ]
  },
  {
   "cell_type": "markdown",
   "metadata": {},
   "source": [
    "> <i class=\"fa fa-info-circle fa-2x text-info\"> </i> [Font Awesome icons](https://fortawesome.github.io/Font-Awesome/icons/) are a great way to get quick visual content onto your slides, and support many [modifiers](https://fortawesome.github.io/Font-Awesome/examples/), which can be combined with [Bootstrap 3 effects](http://getbootstrap.com/css/) to create really nice effects with just a bit of markup. The minimum requires a span-level tag, historically `<i>` with a `class` of at least `fa fa-<some icon>`. \n",
    "```markdown\n",
    "<i class=\"fa fa-gift\"> </i>\n",
    "```\n",
    "<i class=\"fa fa-exclamation-triangle fa-2x text-warning\"> </i> Note the space inside the `<i>`: omitting this will cause strange rendering issues when exporting to HTML, as [mistune](http://mistune.readthedocs.org/en/latest/) (used by [nbconvert](https://nbconvert.readthedocs.org/en/latest/) is configured to be stricter than [marked](https://github.com/chjj/marked), used by the Notebook."
   ]
  },
  {
   "cell_type": "markdown",
   "metadata": {
    "nbpresent": {
     "id": "75ed5c50-7581-4aaf-a886-e3463f489f02"
    }
   },
   "source": [
    "# <i class=\"fa fa-gift fa-5x\"> </i>"
   ]
  },
  {
   "cell_type": "markdown",
   "metadata": {
    "nbpresent": {
     "id": "17b6c8c0-bc0c-4d03-b867-4f2a28d762e7"
    }
   },
   "source": [
    "# [nbpresent](https://github.com/anaconda-platform/nbpresent)"
   ]
  },
  {
   "cell_type": "markdown",
   "metadata": {},
   "source": [
    "> <i class=\"fa fa-info-circle fa-2x text-info\"> </i> The best way to be sure about an image is to use a kernel-level output mechanism to embed the image directly in the page."
   ]
  },
  {
   "cell_type": "code",
   "execution_count": 6,
   "metadata": {
    "collapsed": false,
    "nbpresent": {
     "id": "0515491d-0059-4cc6-b845-e897b85f7329"
    }
   },
   "outputs": [
    {
     "data": {
      "image/svg+xml": [
       "<svg id=\"Layer_1\" style=\"enable-background:new 0 0 420.022 208.321;\" version=\"1.1\" viewBox=\"0 0 420.022 208.321\" x=\"0px\" xml:space=\"preserve\" xmlns=\"http://www.w3.org/2000/svg\" xmlns:xlink=\"http://www.w3.org/1999/xlink\" y=\"0px\">\n",
       "<style type=\"text/css\">\n",
       "\t.st0{fill:#43AF49;}\n",
       "</style>\n",
       "<g>\n",
       "\t<g>\n",
       "\t\t<g>\n",
       "\t\t\t<g>\n",
       "\t\t\t\t<path class=\"st0\" d=\"M0.146,205.69l22.731-49.189c0.219-0.439,0.585-0.805,1.243-0.805h0.731c0.731,0,1.023,0.366,1.243,0.805      l22.511,49.189c0.439,0.95-0.146,1.9-1.242,1.9h-6.359c-1.097,0-1.608-0.439-2.12-1.461l-3.581-7.894H13.449l-3.582,7.894      c-0.292,0.731-0.95,1.461-2.119,1.461H1.389C0.293,207.591-0.292,206.641,0.146,205.69z M31.721,190.123l-7.309-16.08h-0.219      l-7.163,16.08H31.721z\"/>\n",
       "\t\t\t\t<path class=\"st0\" d=\"M55.253,157.013c0-0.731,0.658-1.316,1.389-1.316h1.827l30.405,32.306h0.073v-30.186      c0-0.731,0.584-1.388,1.389-1.388h6.724c0.731,0,1.389,0.658,1.389,1.388v49.19c0,0.731-0.658,1.315-1.389,1.315h-1.754      l-30.551-33.548h-0.073v31.428c0,0.732-0.585,1.389-1.389,1.389h-6.651c-0.731,0-1.389-0.658-1.389-1.389V157.013z\"/>\n",
       "\t\t\t\t<path class=\"st0\" d=\"M105.096,205.69l22.731-49.189c0.219-0.439,0.585-0.805,1.243-0.805h0.731c0.731,0,1.023,0.366,1.243,0.805      l22.511,49.189c0.439,0.95-0.146,1.9-1.242,1.9h-6.359c-1.097,0-1.608-0.439-2.12-1.461l-3.581-7.894h-21.854l-3.582,7.894      c-0.292,0.731-0.95,1.461-2.119,1.461h-6.359C105.242,207.591,104.657,206.641,105.096,205.69z M136.67,190.123l-7.309-16.08      h-0.219l-7.163,16.08H136.67z\"/>\n",
       "\t\t\t\t<path class=\"st0\" d=\"M182.495,155.697c7.382,0,12.719,2.339,17.688,6.798c0.658,0.585,0.658,1.462,0.073,2.047l-4.458,4.605      c-0.512,0.584-1.243,0.584-1.827,0c-3.07-2.704-7.163-4.312-11.256-4.312c-9.355,0-16.299,7.82-16.299,17.03      c0,9.136,7.017,16.883,16.372,16.883c4.385,0,8.113-1.681,11.183-4.166c0.584-0.512,1.388-0.439,1.827,0l4.531,4.678      c0.584,0.511,0.439,1.461-0.073,1.974c-4.97,4.824-11.256,7.089-17.761,7.089c-14.617,0-26.385-11.621-26.385-26.239      C156.11,167.465,167.878,155.697,182.495,155.697z\"/>\n",
       "\t\t\t\t<path class=\"st0\" d=\"M232.194,155.697c14.617,0,26.312,11.768,26.312,26.385c0,14.618-11.695,26.239-26.312,26.239      c-14.618,0-26.239-11.621-26.239-26.239C205.955,167.465,217.576,155.697,232.194,155.697z M232.194,198.82      c9.209,0,16.81-7.528,16.81-16.737c0-9.209-7.601-16.884-16.81-16.884s-16.737,7.675-16.737,16.884      C215.457,191.291,222.985,198.82,232.194,198.82z\"/>\n",
       "\t\t\t\t<path class=\"st0\" d=\"M268.077,157.013c0-0.731,0.658-1.316,1.388-1.316h1.827l30.406,32.306h0.073v-30.186      c0-0.731,0.584-1.388,1.388-1.388h6.724c0.731,0,1.389,0.658,1.389,1.388v49.19c0,0.731-0.659,1.315-1.389,1.315h-1.754      l-30.551-33.548h-0.073v31.428c0,0.732-0.585,1.389-1.389,1.389h-6.651c-0.731,0-1.388-0.658-1.388-1.389V157.013z\"/>\n",
       "\t\t\t\t<path class=\"st0\" d=\"M324.571,157.817c0-0.731,0.584-1.388,1.315-1.388h17.323c14.106,0,25.655,11.474,25.655,25.507      c0,14.179-11.548,25.655-25.655,25.655h-17.323c-0.731,0-1.315-0.658-1.315-1.389V157.817z M342.332,198.674      c9.502,0,16.445-7.163,16.445-16.738c0-9.501-6.943-16.664-16.445-16.664H334v33.402H342.332z\"/>\n",
       "\t\t\t\t<path class=\"st0\" d=\"M371.417,205.69l22.731-49.189c0.219-0.439,0.584-0.805,1.242-0.805h0.732c0.731,0,1.022,0.366,1.242,0.805      l22.512,49.189c0.439,0.95-0.146,1.9-1.242,1.9h-6.36c-1.096,0-1.608-0.439-2.119-1.461l-3.582-7.894H384.72l-3.581,7.894      c-0.293,0.731-0.95,1.461-2.12,1.461h-6.359C371.564,207.591,370.978,206.641,371.417,205.69z M402.992,190.123l-7.309-16.08      h-0.22l-7.162,16.08H402.992z\"/>\n",
       "\t\t\t</g>\n",
       "\t\t</g>\n",
       "\t</g>\n",
       "\t<g>\n",
       "\t\t<path class=\"st0\" d=\"M160.609,81.169c-2.083,4.194-3.82,8.578-5.196,13.11c4.678,1.286,9.429,2.164,14.204,2.635    c0.079-3.758,0.376-7.413,0.888-10.97C167.115,84.558,163.809,82.966,160.609,81.169z\"/>\n",
       "\t\t<path class=\"st0\" d=\"M179.902,32.757c-2.763,0.048-5.524,0.238-8.274,0.559c0.356,2.783,0.844,5.545,1.474,8.274    c1.888-3.192,4.168-6.124,6.783-8.721C179.89,32.832,179.896,32.794,179.902,32.757z\"/>\n",
       "\t\t<path class=\"st0\" d=\"M157.337,98.658c3.632,5.491,8.091,10.382,13.202,14.502c-0.549-4.267-0.863-8.419-0.932-12.454    C165.49,100.318,161.393,99.626,157.337,98.658z\"/>\n",
       "\t\t<path class=\"st0\" d=\"M189.828,3.429c-4.958,1.697-9.639,3.986-13.96,6.788c3.27,0.578,6.494,1.337,9.659,2.266    C186.788,9.398,188.22,6.374,189.828,3.429z\"/>\n",
       "\t\t<path class=\"st0\" d=\"M210.426,0c-2.453,0-4.869,0.153-7.25,0.423c3.377,2.353,6.606,4.925,9.651,7.733l2.53,2.334l-2.481,2.387    c-2.053,1.976-4.061,4.126-5.969,6.39l-0.096,0.11c-0.022,0.024-0.378,0.418-0.971,1.141c1.507-0.159,3.036-0.243,4.585-0.243    c23.937,0,43.342,19.405,43.342,43.342c0,23.937-19.405,43.342-43.342,43.342c-8.306,0-16.064-2.34-22.657-6.392    c-3.252,0.361-6.523,0.55-9.797,0.55c-1.521,0-3.043-0.04-4.564-0.118c0.099,4.93,0.568,10.041,1.408,15.34    c10.162,6.877,22.416,10.894,35.61,10.894c35.134,0,63.616-28.482,63.616-63.616C274.043,28.482,245.561,0,210.426,0z\"/>\n",
       "\t\t<path class=\"st0\" d=\"M201.992,15.037c1.267-1.501,2.576-2.956,3.912-4.351c-2.981-2.537-6.129-4.853-9.42-6.943    c-2.023,3.42-3.785,6.965-5.292,10.601c2.863,1.05,5.664,2.252,8.4,3.585C200.856,16.306,201.739,15.315,201.992,15.037z\"/>\n",
       "\t\t<path class=\"st0\" d=\"M166.281,34.116c-4.655,0.848-9.259,2.086-13.759,3.726c1.839,4.635,4.071,9.069,6.66,13.26    c2.968-2.132,6.059-4.079,9.258-5.828C167.484,41.608,166.767,37.881,166.281,34.116z\"/>\n",
       "\t\t<path class=\"st0\" d=\"M157.995,58.13c-3.417,2.779-6.625,5.837-9.597,9.151c3.316,2.9,6.836,5.521,10.522,7.851    c1.709-3.031,3.593-5.954,5.64-8.759C162.214,63.759,160.021,61.008,157.995,58.13z\"/>\n",
       "\t\t<path class=\"st0\" d=\"M174.163,87.345c-0.005-0.002-0.011-0.004-0.016-0.006c-0.428,3.203-0.673,6.49-0.739,9.865    c3.199,0.172,6.402,0.16,9.593-0.029C179.578,94.373,176.596,91.056,174.163,87.345z\"/>\n",
       "\t\t<path class=\"st0\" d=\"M183.454,18.06c-3.979-1.145-8.057-2-12.205-2.547c-0.352,4.153-0.392,8.304-0.133,12.422    c3.255-0.375,6.523-0.567,9.792-0.584C181.593,24.213,182.436,21.111,183.454,18.06z\"/>\n",
       "\t\t<path class=\"st0\" d=\"M189.108,19.899c-0.795,2.38-1.482,4.793-2.06,7.23c2.77-1.779,5.752-3.253,8.906-4.37    C193.717,21.706,191.434,20.751,189.108,19.899z\"/>\n",
       "\t\t<path class=\"st0\" d=\"M147.389,72.091c0.822,6.171,2.526,12.059,4.986,17.538c1.275-3.667,2.785-7.23,4.511-10.674    C153.586,76.886,150.413,74.595,147.389,72.091z\"/>\n",
       "\t\t<path class=\"st0\" d=\"M165.634,18.451c-3.797,3.765-7.116,8.008-9.872,12.627c3.293-0.982,6.628-1.765,9.988-2.36    C165.518,25.313,165.473,21.885,165.634,18.451z\"/>\n",
       "\t\t<path class=\"st0\" d=\"M161.862,55.169c1.641,2.343,3.399,4.599,5.265,6.76c0.153-3.979,0.837-7.82,1.992-11.454    C166.624,51.913,164.202,53.48,161.862,55.169z\"/>\n",
       "\t\t<path class=\"st0\" d=\"M162.637,77.345c2.686,1.511,5.449,2.872,8.277,4.08c-1.659-3.676-2.822-7.621-3.4-11.756    C165.754,72.136,164.126,74.697,162.637,77.345z\"/>\n",
       "\t\t<path class=\"st0\" d=\"M155.291,54.057c-2.004-3.206-3.808-6.548-5.401-10.009c-1.813,5.613-2.859,11.567-3.034,17.742    C149.512,59.025,152.328,56.441,155.291,54.057z\"/>\n",
       "\t</g>\n",
       "\t<g>\n",
       "\t\t<path class=\"st0\" d=\"M415.359,155.763c2.375,0,4.317,1.943,4.317,4.317s-1.942,4.306-4.317,4.306s-4.306-1.931-4.306-4.306    S412.984,155.763,415.359,155.763z M415.359,163.558c1.931,0,3.479-1.559,3.479-3.478c0-1.931-1.548-3.478-3.479-3.478    c-1.919,0-3.478,1.547-3.478,3.478C411.881,161.999,413.44,163.558,415.359,163.558z M413.812,158.101    c0-0.12,0.096-0.228,0.228-0.228h1.775c0.743,0,1.475,0.503,1.475,1.415c0,0.852-0.551,1.188-0.911,1.319    c0.216,0.444,0.432,0.899,0.636,1.331c0.084,0.156-0.036,0.324-0.204,0.324h-0.539c-0.097,0-0.181-0.084-0.217-0.168l-0.6-1.416    h-0.743v1.355c0,0.12-0.096,0.228-0.228,0.228h-0.444c-0.132,0-0.228-0.108-0.228-0.228V158.101z M415.754,159.888    c0.36,0,0.601-0.264,0.601-0.587c0-0.348-0.24-0.588-0.601-0.588h-1.067v1.175H415.754z\"/>\n",
       "\t</g>\n",
       "</g>\n",
       "</svg>"
      ],
      "text/plain": [
       "<IPython.core.display.SVG object>"
      ]
     },
     "execution_count": 6,
     "metadata": {},
     "output_type": "execute_result"
    }
   ],
   "source": [
    "SVG(\"https://www.continuum.io/sites/all/themes/continuum_foundation/images/logos/logo-anaconda.svg\")"
   ]
  },
  {
   "cell_type": "markdown",
   "metadata": {},
   "source": [
    "> <i class=\"fa fa-info-circle fa-2x text-info\"> </i> SVGs are malleable with simple code. To removing padding and complement a dark theme, do a few short replacements."
   ]
  },
  {
   "cell_type": "code",
   "execution_count": 7,
   "metadata": {
    "collapsed": false,
    "nbpresent": {
     "id": "0863f6b2-2c2c-4994-a711-89205c5a3417"
    }
   },
   "outputs": [
    {
     "data": {
      "image/svg+xml": [
       "<svg height=\"313px\" version=\"1.1\" viewBox=\"0 0 747 313\" width=\"747px\" xmlns=\"http://www.w3.org/2000/svg\" xmlns:sketch=\"http://www.bohemiancoding.com/sketch/ns\" xmlns:xlink=\"http://www.w3.org/1999/xlink\">\n",
       "    <!-- Generator: Sketch 3.3.3 (12072) - http://www.bohemiancoding.com/sketch -->\n",
       "    <title>Artboard</title>\n",
       "    <desc>Created with Sketch.</desc>\n",
       "    <defs/>\n",
       "    <g fill=\"none\" fill-rule=\"evenodd\" id=\"Page-1\" sketch:type=\"MSPage\" stroke=\"none\" stroke-width=\"1\">\n",
       "        <g id=\"Artboard\" sketch:type=\"MSArtboardGroup\">\n",
       "            <g id=\"Group-Copy-4-+-Group-+-Group-Copy\" sketch:type=\"MSLayerGroup\">\n",
       "                <g id=\"Group-Copy-4\" sketch:type=\"MSShapeGroup\" transform=\"\">\n",
       "                    <path d=\"M131.257337,205.273607 C88.6676163,205.273607 51.5803902,189.962312 32.272903,167.340381 C46.8840271,207.894536 85.6836315,236.88929 131.257337,236.88929 C176.831042,236.88929 215.631296,207.894536 230.24242,167.340381 C210.934933,189.962312 173.847707,205.273607 131.257337,205.273607\" fill=\"#E46E2E\" id=\"Fill-9\"/>\n",
       "                    <path d=\"M131.257337,58.0405045 C173.847707,58.0405045 210.934933,73.3524506 230.24242,95.9737309 C215.631296,55.4195759 176.831042,26.4248216 131.257337,26.4248216 C85.6836315,26.4248216 46.8840271,55.4195759 32.272903,95.9737309 C51.5803902,73.3524506 88.6676163,58.0405045 131.257337,58.0405045\" fill=\"#E46E2E\" id=\"Fill-10\"/>\n",
       "                    <path d=\"M51.4565438,259.864602 C42.3248269,260.2556 34.6049531,253.170129 34.2139515,244.0385 C33.8223079,234.906871 40.9084894,227.187072 50.0402064,226.795432 C59.1719233,226.404434 66.8917971,233.489906 67.2827987,242.621534 C67.6744423,251.753163 60.5889028,259.473604 51.4565438,259.864602 Z\" fill=\"#ffffff\" id=\"Fill-11\"/>\n",
       "                    <path d=\"M38.7573991,44.3650959 C33.0501924,44.6094359 28.2248169,40.1810205 27.9804858,34.473607 C27.7361546,28.7655349 32.1644097,23.9406432 37.8716164,23.6963032 C43.5794816,23.4513046 48.4048571,27.8803787 48.6491882,33.5877922 C48.8935194,39.2952057 44.4652644,44.1207559 38.7573991,44.3650959 Z\" fill=\"#ffffff\" id=\"Fill-12\"/>\n",
       "                    <path d=\"M202.981984,32.109949 C194.118914,32.4894339 186.626027,25.6129585 186.246545,16.7498125 C185.867063,7.88741641 192.74423,0.394465656 201.606551,0.0149808114 C210.469622,-0.364504033 217.961759,6.51197134 218.34124,15.3751174 C218.721472,24.2375134 211.844305,31.7304642 202.981984,32.109949 Z\" fill=\"#ffffff\" id=\"Fill-8\"/>\n",
       "                    <g fill=\"#ffffff\" id=\"Group-Copy\" transform=\"translate(0.000000, 100.870704)\">\n",
       "                        <path d=\"M10.9103401,44.7489832 C10.9103401,54.2807568 10.1653625,57.402886 8.17775035,59.7033235 C6.43972074,61.5929151 3.54199934,62.4969257 0.230317746,62.7438822 L0.9752953,68.4134054 C4.86606876,68.4134054 10.1653625,67.098549 13.3941013,63.8941009 C16.9538574,60.278807 18.195738,55.2663379 18.195738,47.5425854 L18.195738,11.4704687 L10.9103401,11.4704687 L10.9103401,44.7489832\" id=\"Fill-1\"/>\n",
       "                        <path d=\"M65.3050119,40.3943165 C65.3050119,44.5020267 65.3872007,48.118069 65.6360292,51.2401981 L59.1777977,51.2401981 L58.7638375,44.7489832 L58.5987059,44.7489832 C56.6940365,47.9534313 52.4714917,52.1434604 45.3519795,52.1434604 C39.0596336,52.1434604 31.5254072,48.6928042 31.5254072,34.7247933 L31.5254072,11.4704687 L38.8115591,11.4704687 L38.8115591,33.4915074 C38.8115591,41.0506222 41.1294346,46.1461585 47.7527978,46.1461585 C52.6373774,46.1461585 56.0320018,42.7770728 57.3568253,39.5718764 C57.7707855,38.5039765 58.01886,37.1891201 58.01886,35.8742637 L58.01886,11.4704687 L65.3050119,11.4704687 L65.3050119,40.3943165\" id=\"Fill-2\"/>\n",
       "                        <path d=\"M79.0493953,24.4528985 C79.0493953,19.3588588 78.8842637,15.2496519 78.718378,11.4704687 L85.2587983,11.4704687 L85.5898157,18.2902106 L85.7557014,18.2902106 C88.7363656,13.4423791 93.4550595,10.5664581 99.9954798,10.5664581 C109.68245,10.5664581 116.967848,18.7010564 116.967848,30.780224 C116.967848,45.0775103 108.191741,52.1434604 98.7535992,52.1434604 C93.4550595,52.1434604 88.8185544,49.8430229 86.4177361,45.899202 L86.2526044,45.899202 L86.2526044,67.5093948 L79.0493953,67.5093948 L79.0493953,24.4528985 L79.0493953,24.4528985 Z M86.2526044,35.052572 C86.2526044,36.1212202 86.4177361,37.1075496 86.5836218,38.0108118 C87.9076912,43.023281 92.2961217,46.4739372 97.5117186,46.4739372 C105.211077,46.4739372 109.68245,40.2296788 109.68245,31.1087511 C109.68245,23.1387904 105.459905,16.3183001 97.7605472,16.3183001 C92.7930248,16.3183001 88.1565197,19.8520235 86.7487534,25.2745902 C86.5006789,26.1786007 86.2526044,27.2465006 86.2526044,28.23283 L86.2526044,35.052572 L86.2526044,35.052572 Z\" id=\"Fill-3\"/>\n",
       "                        <path d=\"M129.884311,11.4704687 L138.660418,34.9710015 C139.571281,37.6007143 140.564333,40.7220951 141.227122,43.1055998 L141.392254,43.1055998 C142.137985,40.7220951 142.965906,37.6822848 143.958958,34.8063638 L151.907144,11.4704687 L159.606503,11.4704687 L148.678406,39.8188329 C143.462055,53.4583168 139.902299,60.4434447 134.934776,64.7157927 C131.37502,67.8379218 127.81451,69.0704594 125.993538,69.3989864 L124.171811,63.3193657 C125.993538,62.7438822 128.394356,61.5929151 130.5471,59.7856423 C132.533958,58.2238294 135.017719,55.4302272 136.67356,51.7333628 C137.004577,50.99399 137.252652,50.4185064 137.252652,50.0076606 C137.252652,49.5960664 137.08752,49.0220795 136.755749,48.118069 L121.936878,11.4704687 L129.884311,11.4704687\" id=\"Fill-4\"/>\n",
       "                        <path d=\"M178.767054,0.0491034516 L178.767054,11.4704687 L189.199002,11.4704687 L189.199002,16.9761025 L178.767054,16.9761025 L178.767054,38.4216577 C178.767054,43.351808 180.17482,46.1461585 184.231479,46.1461585 C186.135395,46.1461585 187.543161,45.899202 188.454024,45.6529938 L188.785041,51.0755605 C187.377275,51.651044 185.142342,52.0618899 182.327564,52.0618899 C178.932939,52.0618899 176.20035,50.99399 174.461566,49.0220795 C172.392519,46.884783 171.646788,43.351808 171.646788,38.6678658 L171.646788,16.9761025 L165.438139,16.9761025 L165.438139,11.4704687 L171.646788,11.4704687 L171.646788,1.93869506 L178.767054,0.0491034516\" id=\"Fill-5\"/>\n",
       "                        <path d=\"M202.611614,32.6698156 C202.776745,42.4477974 209.069845,46.4739372 216.355243,46.4739372 C221.57084,46.4739372 224.716636,45.570675 227.449226,44.4197079 L228.691106,49.5960664 C226.124402,50.7470334 221.736726,52.0618899 215.361437,52.0618899 C203.025574,52.0618899 195.657233,44.008862 195.657233,32.0127616 C195.657233,20.0159129 202.776745,10.5664581 214.451328,10.5664581 C227.532168,10.5664581 231.008982,21.9878233 231.008982,29.3007299 C231.008982,30.780224 230.84385,31.9304428 230.760907,32.6698156 L202.611614,32.6698156 L202.611614,32.6698156 Z M223.971658,27.4934572 C224.054601,22.8918339 222.067743,15.7428166 213.871482,15.7428166 C206.503141,15.7428166 203.273648,22.480988 202.694557,27.4934572 L223.971658,27.4934572 L223.971658,27.4934572 Z\" id=\"Fill-6\"/>\n",
       "                        <path d=\"M241.690512,23.8774149 C241.690512,19.1942211 241.607569,15.167333 241.358741,11.4704687 L247.734029,11.4704687 L247.982858,19.27654 L248.313875,19.27654 C250.134848,13.9355438 254.523278,10.5664581 259.407858,10.5664581 C260.235778,10.5664581 260.815624,10.6487769 261.477659,10.8134146 L261.477659,17.6331565 C260.732681,17.4692672 259.98695,17.3869484 258.993898,17.3869484 C253.86049,17.3869484 250.217791,21.2484504 249.224739,26.6710171 C249.058853,27.6573465 248.892967,28.8083136 248.892967,30.0401028 L248.892967,51.2401981 L241.690512,51.2401981 L241.690512,23.8774149\" id=\"Fill-7\"/>\n",
       "                    </g>\n",
       "                </g>\n",
       "            </g>\n",
       "        </g>\n",
       "    </g>\n",
       "</svg>"
      ],
      "text/plain": [
       "<IPython.core.display.SVG object>"
      ]
     },
     "metadata": {},
     "output_type": "display_data"
    }
   ],
   "source": [
    "import requests\n",
    "display(SVG(requests.get(\"http://jupyter.org/assets/main-logo.svg\").content.decode(\"utf-8\")\n",
    "    .replace(\"\"\"translate(248.000000, 26.000000)\"\"\", \"\")\n",
    "    .replace(\"#767474\", \"#ffffff\")\n",
    "    .replace(\"#313940\", \"#ffffff\")))"
   ]
  },
  {
   "cell_type": "markdown",
   "metadata": {
    "nbpresent": {
     "id": "282fa409-18e5-4986-aa98-398e86a6d2ff"
    }
   },
   "source": [
    "## <i class=\"fa fa-gift\"> </i> Motivation\n",
    "- The Talk is important\n",
    "  - The Work is more important\n",
    "- PowerPoint is bad\n",
    "- The Notebook is great\n",
    "- [RISE](https://github.com/damianavila/RISE) is good\n",
    "  - reveal.js not so good in the Notebook"
   ]
  },
  {
   "cell_type": "markdown",
   "metadata": {
    "nbpresent": {
     "id": "b385f262-5bb8-4677-bfe2-149547c660f6"
    }
   },
   "source": [
    "![](http://joeyroth.com/responsive_images/hustler_poster_joey_roth_1140.png)\n",
    "### © [Joey Roth](http://joeyroth.com/)"
   ]
  },
  {
   "cell_type": "markdown",
   "metadata": {},
   "source": [
    "> <i class=\"fa fa-info-circle fa-2x text-info\"> </i> IFrames are a quick-and-dirty way to get external content into your page: you just need to knwo the URL: no complex JS!"
   ]
  },
  {
   "cell_type": "code",
   "execution_count": 8,
   "metadata": {
    "collapsed": false,
    "nbpresent": {
     "id": "88597b44-843f-44bc-9ff1-5fce64d8b840"
    }
   },
   "outputs": [
    {
     "data": {
      "text/html": [
       "\n",
       "        <iframe\n",
       "            width=\"1380\"\n",
       "            height=\"900\"\n",
       "            src=\"http://origins.sese.asu.edu/ses405/Reference%20Documents/DAU_Wallchart.pdf\"\n",
       "            frameborder=\"0\"\n",
       "            allowfullscreen\n",
       "        ></iframe>\n",
       "        "
      ],
      "text/plain": [
       "<IPython.lib.display.IFrame at 0x109527198>"
      ]
     },
     "execution_count": 8,
     "metadata": {},
     "output_type": "execute_result"
    }
   ],
   "source": [
    "IFrame(\"http://origins.sese.asu.edu/ses405/Reference%20Documents/DAU_Wallchart.pdf\",\n",
    "       width=\"1380\", height=\"900\")"
   ]
  },
  {
   "cell_type": "code",
   "execution_count": 9,
   "metadata": {
    "collapsed": false
   },
   "outputs": [
    {
     "data": {
      "text/html": [
       "\n",
       "        <iframe\n",
       "            width=\"1380\"\n",
       "            height=\"900\"\n",
       "            src=\"https://losc.ligo.org/s/events/GW150914/GW150914_tutorial.html\"\n",
       "            frameborder=\"0\"\n",
       "            allowfullscreen\n",
       "        ></iframe>\n",
       "        "
      ],
      "text/plain": [
       "<IPython.lib.display.IFrame at 0x109527cf8>"
      ]
     },
     "execution_count": 9,
     "metadata": {},
     "output_type": "execute_result"
    }
   ],
   "source": [
    "IFrame(\"https://losc.ligo.org/s/events/GW150914/GW150914_tutorial.html\",\n",
    "       width=\"1380\", height=\"900\")"
   ]
  },
  {
   "cell_type": "code",
   "execution_count": 10,
   "metadata": {
    "collapsed": false,
    "nbpresent": {
     "id": "2d32ac68-2b6d-4c82-8b13-bff2d206619b"
    }
   },
   "outputs": [
    {
     "data": {
      "text/html": [
       "\n",
       "        <iframe\n",
       "            width=\"1380\"\n",
       "            height=\"900\"\n",
       "            src=\"https://nbviewer.jupyter.org/format/slides/github/lmarti/evolutionary-computation-course/blob/master/AEC.06%20-%20Evolutionary%20Multi-Objective%20Optimization.ipynb#/1\"\n",
       "            frameborder=\"0\"\n",
       "            allowfullscreen\n",
       "        ></iframe>\n",
       "        "
      ],
      "text/plain": [
       "<IPython.lib.display.IFrame at 0x109527b00>"
      ]
     },
     "execution_count": 10,
     "metadata": {},
     "output_type": "execute_result"
    }
   ],
   "source": [
    "IFrame(\n",
    "    \"https://nbviewer.jupyter.org/format/slides/github/lmarti/evolutionary-computation-course/blob/master/AEC.06%20-%20Evolutionary%20Multi-Objective%20Optimization.ipynb#/1\",\n",
    "    width=\"1380\", height=\"900\")"
   ]
  },
  {
   "cell_type": "code",
   "execution_count": 11,
   "metadata": {
    "collapsed": false
   },
   "outputs": [
    {
     "data": {
      "text/html": [
       "\n",
       "        <iframe\n",
       "            width=\"1380\"\n",
       "            height=\"900\"\n",
       "            src=\"http://homepages.wmich.edu/~mcgrew/Siderius.pdf\"\n",
       "            frameborder=\"0\"\n",
       "            allowfullscreen\n",
       "        ></iframe>\n",
       "        "
      ],
      "text/plain": [
       "<IPython.lib.display.IFrame at 0x109527c50>"
      ]
     },
     "execution_count": 11,
     "metadata": {},
     "output_type": "execute_result"
    }
   ],
   "source": [
    "IFrame(\"http://homepages.wmich.edu/~mcgrew/Siderius.pdf\", width=\"1380\", height=\"900\")"
   ]
  },
  {
   "cell_type": "markdown",
   "metadata": {
    "nbpresent": {
     "id": "37e530ba-8bd0-408f-8795-c54de1505d1a"
    }
   },
   "source": [
    "## <i class=\"fa fa-gift\"> </i> Features\n",
    "- Reuse your _delightful data narratives_ from the _Jupyter Notebook_ as slide-based presentations\n",
    "- Use rich _visual tools_ to build the metadata for your _layout_\n",
    "- Choose a base _theme_ for your presentation, or a theme per slide\n",
    "- _Export_ your presentations as _archival HTML_ and ~~PDF~~"
   ]
  },
  {
   "cell_type": "markdown",
   "metadata": {
    "nbpresent": {
     "id": "3237972e-a24a-4e29-880a-36b461bd5b6a"
    }
   },
   "source": [
    "## <i class=\"fa fa-gift\"> </i> Examples\n",
    "- This!\n",
    "- [Bokeh Mic Check](./Bokeh Mic Check.ipynb)"
   ]
  },
  {
   "cell_type": "markdown",
   "metadata": {
    "nbpresent": {
     "id": "1363f004-5a51-406a-aa9f-c545694e0180"
    }
   },
   "source": [
    "## <i class=\"fa fa-gift\"> </i> Community"
   ]
  },
  {
   "cell_type": "markdown",
   "metadata": {
    "nbpresent": {
     "id": "9174be64-b55c-44b2-b95a-4a2d9b1f9df0"
    }
   },
   "source": [
    "### [Chat](https://gitter.im/Anaconda-Platform/nbpresent)"
   ]
  },
  {
   "cell_type": "code",
   "execution_count": 12,
   "metadata": {
    "collapsed": false,
    "nbpresent": {
     "id": "abd0a4a9-3e30-4800-8b82-0f5fc65bd9a1"
    }
   },
   "outputs": [
    {
     "data": {
      "text/html": [
       "\n",
       "        <iframe\n",
       "            width=\"400\"\n",
       "            height=\"700\"\n",
       "            src=\"https://gitter.im/Anaconda-Platform/nbpresent/~embed\"\n",
       "            frameborder=\"0\"\n",
       "            allowfullscreen\n",
       "        ></iframe>\n",
       "        "
      ],
      "text/plain": [
       "<IPython.lib.display.IFrame at 0x109527e80>"
      ]
     },
     "execution_count": 12,
     "metadata": {},
     "output_type": "execute_result"
    }
   ],
   "source": [
    "IFrame(\"https://gitter.im/Anaconda-Platform/nbpresent/~embed\", 400, 700)"
   ]
  },
  {
   "cell_type": "markdown",
   "metadata": {
    "nbpresent": {
     "id": "d6d96b28-64a1-48d5-985a-b9224c39a593"
    }
   },
   "source": [
    "### [Code](https://github.com/anaconda-platform/nbpresent)"
   ]
  },
  {
   "cell_type": "markdown",
   "metadata": {},
   "source": [
    "> <i class=\"fa fa-info-circle fa-2x text-info\"> </i> Sometimes, you just need some HTML... but if someone has already done the legwork, it's worth it!"
   ]
  },
  {
   "cell_type": "code",
   "execution_count": 13,
   "metadata": {
    "collapsed": false,
    "nbpresent": {
     "id": "bbba109a-5dd7-46b0-a419-db8b60541858"
    }
   },
   "outputs": [
    {
     "data": {
      "text/html": [
       "<div class=\"github-card\" data-github=\"anaconda-platform/nbpresent\" data-width=\"300\" data-theme=\"medium\"></div>\n",
       "<script src=\"//cdn.jsdelivr.net/github-cards/latest/widget.js\"></script>"
      ],
      "text/plain": [
       "<IPython.core.display.HTML object>"
      ]
     },
     "metadata": {},
     "output_type": "display_data"
    }
   ],
   "source": [
    "%%html\n",
    "<div class=\"github-card\" data-github=\"anaconda-platform/nbpresent\" data-width=\"300\" data-theme=\"medium\"></div>\n",
    "<script src=\"//cdn.jsdelivr.net/github-cards/latest/widget.js\"></script>"
   ]
  },
  {
   "cell_type": "markdown",
   "metadata": {
    "nbpresent": {
     "id": "3fa11e68-aea8-445e-b612-8bbb7ddba702"
    }
   },
   "source": [
    "### [Forum](https://groups.google.com/forum/#!forum/nbpresent)"
   ]
  },
  {
   "cell_type": "markdown",
   "metadata": {
    "nbpresent": {
     "id": "0d9987db-a168-448d-a460-de8ef06517ce"
    }
   },
   "source": [
    "![](http://i.imgur.com/ZCeVb1M.png)\n",
    "_Some issues with embedding_"
   ]
  },
  {
   "cell_type": "markdown",
   "metadata": {
    "nbpresent": {
     "id": "3b9f9a1e-bbd0-48f2-8db6-40888e2857b8"
    }
   },
   "source": [
    "## <i class=\"fa fa-gift\"> </i> Lessons Learned/Future Work\n",
    "- [d3](https://d3js.org/), it's been great\n",
    "  - but use more [Phosphor](http://phosphorjs.github.io/)\n",
    "- [Baobab](https://github.com/Yomguithereal/baobab) is really good\n",
    "- Testing this kind of stuff is hard\n",
    "- Still need\n",
    "  - reveal.js Subslides/Hyperslides\n",
    "  - Need better reuse than `IFRAMES`\n",
    "  - (color, scroll, slide, etc.)-as-data\n",
    "- Fonts: embedded, in QtWebKit, etc."
   ]
  }
 ],
 "metadata": {
  "anaconda-cloud": {
   "environment": null,
   "summary": "A summary of nbpresent",
   "url": "http://192.168.99.100:4990/testuser/index"
  },
  "kernelspec": {
   "display_name": "Python 3",
   "language": "python",
   "name": "python3"
  },
  "language_info": {
   "codemirror_mode": {
    "name": "ipython",
    "version": 3
   },
   "file_extension": ".py",
   "mimetype": "text/x-python",
   "name": "python",
   "nbconvert_exporter": "python",
   "pygments_lexer": "ipython3",
   "version": "3.5.1"
  },
  "nbpresent": {
   "slides": {
    "263bdc36-e39b-40db-a03b-241728631a05": {
     "id": "263bdc36-e39b-40db-a03b-241728631a05",
     "layout": "grid",
     "prev": "7f84df0f-19fe-4948-8676-5a098187264a",
     "regions": {
      "aea89fb1-bbe5-47f9-b53b-c603f04558f8": {
       "attrs": {
        "height": 0.8333333333333334,
        "pad": 0.01,
        "width": 0.8333333333333334,
        "x": 0.08333333333333333,
        "y": 0.08333333333333333
       },
       "content": {
        "cell": "3237972e-a24a-4e29-880a-36b461bd5b6a",
        "part": "source"
       },
       "id": "aea89fb1-bbe5-47f9-b53b-c603f04558f8"
      }
     }
    },
    "45fcbf02-33ab-43bc-96e0-0126ffb1aee1": {
     "id": "45fcbf02-33ab-43bc-96e0-0126ffb1aee1",
     "layout": "grid",
     "prev": "f4710b5c-9533-4205-ae36-7f77ef3f6b23",
     "regions": {
      "b1037059-c181-4c70-8e98-55d99c10c6bb": {
       "attrs": {
        "height": 0.8333333333333334,
        "pad": 0.01,
        "width": 0.8333333333333334,
        "x": 0.08333333333333333,
        "y": 0.08333333333333333
       },
       "content": {
        "cell": "37e530ba-8bd0-408f-8795-c54de1505d1a",
        "part": "source"
       },
       "id": "b1037059-c181-4c70-8e98-55d99c10c6bb"
      }
     }
    },
    "658cbf0e-b1c5-48fd-a05b-22d7e4566b4c": {
     "id": "658cbf0e-b1c5-48fd-a05b-22d7e4566b4c",
     "layout": "grid",
     "prev": "d74b78c6-0199-4e99-908b-121f20699201",
     "regions": {
      "4887fa9c-05f4-4e8b-97fb-8e7b7bf0a98a": {
       "attrs": {
        "height": 0.3333333333333333,
        "pad": 0.01,
        "width": 0.25,
        "x": 0.6666666666666666,
        "y": 0.5
       },
       "content": {
        "cell": "0d9987db-a168-448d-a460-de8ef06517ce",
        "part": "source"
       },
       "id": "4887fa9c-05f4-4e8b-97fb-8e7b7bf0a98a"
      },
      "793200a0-4729-4864-9e38-0df2e69c2fd5": {
       "attrs": {
        "height": 0.08333333333333333,
        "pad": 0.01,
        "width": 0.25,
        "x": 0.08333333333333333,
        "y": 0.3333333333333333
       },
       "content": {
        "cell": "9174be64-b55c-44b2-b95a-4a2d9b1f9df0",
        "part": "source"
       },
       "id": "793200a0-4729-4864-9e38-0df2e69c2fd5"
      },
      "97faf74f-e56a-478d-ab28-e15f786a9445": {
       "attrs": {
        "height": 0.08333333333333333,
        "pad": 0.01,
        "width": 0.25,
        "x": 0.4166666666666667,
        "y": 0.3333333333333333
       },
       "content": {
        "cell": "d6d96b28-64a1-48d5-985a-b9224c39a593",
        "part": "source"
       },
       "id": "97faf74f-e56a-478d-ab28-e15f786a9445"
      },
      "bac1e4b0-93cd-453a-94d3-a31c219c1fd2": {
       "attrs": {
        "height": 0.5,
        "pad": 0.01,
        "width": 0.25,
        "x": 0.08333333333333333,
        "y": 0.4166666666666667
       },
       "content": {
        "cell": "abd0a4a9-3e30-4800-8b82-0f5fc65bd9a1",
        "part": "outputs"
       },
       "id": "bac1e4b0-93cd-453a-94d3-a31c219c1fd2"
      },
      "d00b1b96-b637-434b-99c5-b3609d953ed8": {
       "attrs": {
        "height": 0.08333333333333333,
        "pad": 0.01,
        "width": 0.3333333333333333,
        "x": 0.6666666666666666,
        "y": 0.3333333333333333
       },
       "content": {
        "cell": "3fa11e68-aea8-445e-b612-8bbb7ddba702",
        "part": "source"
       },
       "id": "d00b1b96-b637-434b-99c5-b3609d953ed8"
      },
      "fc5b4e80-6d7d-4eec-8868-1c29e84dde66": {
       "attrs": {
        "height": 0.4166666666666667,
        "pad": 0.01,
        "width": 0.25,
        "x": 0.4166666666666667,
        "y": 0.4166666666666667
       },
       "content": {
        "cell": "bbba109a-5dd7-46b0-a419-db8b60541858",
        "part": "outputs"
       },
       "id": "fc5b4e80-6d7d-4eec-8868-1c29e84dde66"
      },
      "fe54bd11-e3f7-49b4-9285-35f7cb1addf0": {
       "attrs": {
        "height": 0.16666666666666666,
        "pad": 0.01,
        "width": 0.8333333333333334,
        "x": 0.08333333333333333,
        "y": 0.08333333333333333
       },
       "content": {
        "cell": "1363f004-5a51-406a-aa9f-c545694e0180",
        "part": "source"
       },
       "id": "fe54bd11-e3f7-49b4-9285-35f7cb1addf0"
      }
     }
    },
    "65f9be9a-59ab-446d-ad8d-c0f10f09453b": {
     "id": "65f9be9a-59ab-446d-ad8d-c0f10f09453b",
     "layout": "grid",
     "prev": "658cbf0e-b1c5-48fd-a05b-22d7e4566b4c",
     "regions": {
      "085ce744-260e-4fcb-9122-f29927bfba51": {
       "attrs": {
        "height": 0.8333333333333334,
        "pad": 0.01,
        "width": 0.8333333333333334,
        "x": 0.08333333333333333,
        "y": 0.08333333333333333
       },
       "content": {
        "cell": "3b9f9a1e-bbd0-48f2-8db6-40888e2857b8",
        "part": "source"
       },
       "id": "085ce744-260e-4fcb-9122-f29927bfba51"
      }
     }
    },
    "7f84df0f-19fe-4948-8676-5a098187264a": {
     "id": "7f84df0f-19fe-4948-8676-5a098187264a",
     "layout": "grid",
     "prev": "45fcbf02-33ab-43bc-96e0-0126ffb1aee1",
     "regions": {
      "520e8094-996f-46d6-9510-47efa7ff0ec8": {
       "attrs": {
        "height": 0.8333333333333334,
        "pad": 0.01,
        "width": 0.8333333333333334,
        "x": 0.08333333333333333,
        "y": 0.08333333333333333
       },
       "content": {
        "cell": "282fa409-18e5-4986-aa98-398e86a6d2ff",
        "part": "source"
       },
       "id": "520e8094-996f-46d6-9510-47efa7ff0ec8"
      }
     }
    },
    "b03f0030-7c02-4537-9181-f1049d3f09b9": {
     "id": "b03f0030-7c02-4537-9181-f1049d3f09b9",
     "layout": "grid",
     "prev": "263bdc36-e39b-40db-a03b-241728631a05",
     "regions": {
      "899a8459-3987-4ff3-86e8-7bd7cb27e817": {
       "attrs": {
        "height": 0.75,
        "pad": 0.01,
        "width": 0.8333333333333334,
        "x": 0.08333333333333333,
        "y": 0.08333333333333333
       },
       "content": {
        "cell": "b385f262-5bb8-4677-bfe2-149547c660f6",
        "part": "source"
       },
       "id": "899a8459-3987-4ff3-86e8-7bd7cb27e817"
      }
     }
    },
    "d74b78c6-0199-4e99-908b-121f20699201": {
     "id": "d74b78c6-0199-4e99-908b-121f20699201",
     "prev": "dc32258a-57b8-4e82-a735-5d9b636738c5",
     "regions": {
      "3258f551-592b-40a8-848d-f65acf7875c5": {
       "attrs": {
        "height": 1,
        "width": 1,
        "x": 0,
        "y": 0
       },
       "content": {
        "cell": "2d32ac68-2b6d-4c82-8b13-bff2d206619b",
        "part": "outputs"
       },
       "id": "3258f551-592b-40a8-848d-f65acf7875c5"
      }
     }
    },
    "dc32258a-57b8-4e82-a735-5d9b636738c5": {
     "id": "dc32258a-57b8-4e82-a735-5d9b636738c5",
     "layout": "grid",
     "prev": "b03f0030-7c02-4537-9181-f1049d3f09b9",
     "regions": {
      "76e91523-2ae4-42f7-a8fc-6e3ade27ba3a": {
       "attrs": {
        "height": 1,
        "pad": 0.01,
        "width": 1,
        "x": 0,
        "y": 0
       },
       "content": {
        "cell": "88597b44-843f-44bc-9ff1-5fce64d8b840",
        "part": "outputs"
       },
       "id": "76e91523-2ae4-42f7-a8fc-6e3ade27ba3a"
      }
     }
    },
    "f4710b5c-9533-4205-ae36-7f77ef3f6b23": {
     "id": "f4710b5c-9533-4205-ae36-7f77ef3f6b23",
     "layout": "grid",
     "prev": null,
     "regions": {
      "031cb206-69c0-438b-a1b4-097ab356ee55": {
       "attrs": {
        "height": 0.4166666666666667,
        "pad": 0.01,
        "width": 0.25,
        "x": 0.08333333333333333,
        "y": 0.6666666666666666
       },
       "content": {
        "cell": "0515491d-0059-4cc6-b845-e897b85f7329",
        "part": "outputs"
       },
       "id": "031cb206-69c0-438b-a1b4-097ab356ee55"
      },
      "40390f32-8d03-4bb1-a467-15209f33ba4e": {
       "attrs": {
        "height": 0.5,
        "pad": 0.01,
        "width": 0.5833333333333334,
        "x": 0.6666666666666666,
        "y": 0.5833333333333334
       },
       "content": {
        "cell": "0863f6b2-2c2c-4994-a711-89205c5a3417",
        "part": "outputs"
       },
       "id": "40390f32-8d03-4bb1-a467-15209f33ba4e"
      },
      "e38ac94e-8918-46b1-88ec-8ad163d02f62": {
       "attrs": {
        "height": 0.4166666666666667,
        "pad": 0.01,
        "treemap:weight": 1.7000000000000002,
        "width": 0.3333333333333333,
        "x": 0.3333333333333333,
        "y": 0.5
       },
       "content": {
        "cell": "17b6c8c0-bc0c-4d03-b867-4f2a28d762e7",
        "part": "source"
       },
       "id": "e38ac94e-8918-46b1-88ec-8ad163d02f62"
      },
      "ec38b792-78bb-4ca8-9601-3552776ddaae": {
       "attrs": {
        "height": 0.4166666666666667,
        "pad": 0.01,
        "treemap:weight": 3.7,
        "width": 0.3333333333333333,
        "x": 0.3333333333333333,
        "y": 0.08333333333333333
       },
       "content": {
        "cell": "75ed5c50-7581-4aaf-a886-e3463f489f02",
        "part": "source"
       },
       "id": "ec38b792-78bb-4ca8-9601-3552776ddaae"
      }
     },
     "theme": "9a89d8a1-7c8b-4b7f-b557-e30ecb4773b9"
    }
   },
   "themes": {
    "default": "9a89d8a1-7c8b-4b7f-b557-e30ecb4773b9",
    "theme": {
     "9a89d8a1-7c8b-4b7f-b557-e30ecb4773b9": {
      "backgrounds": {
       "44dbea07-d223-4796-a861-f2cdc5c065c5": {
        "background-color": "4e2b2bb8-e05e-42d0-bc3e-837cdda248e0",
        "id": "44dbea07-d223-4796-a861-f2cdc5c065c5"
       }
      },
      "id": "9a89d8a1-7c8b-4b7f-b557-e30ecb4773b9",
      "palette": {
       "3626902d-6631-4d9f-b392-a24df3dc9d7e": {
        "id": "3626902d-6631-4d9f-b392-a24df3dc9d7e",
        "rgb": [
         245,
         118,
         14
        ]
       },
       "4e2b2bb8-e05e-42d0-bc3e-837cdda248e0": {
        "id": "4e2b2bb8-e05e-42d0-bc3e-837cdda248e0",
        "rgb": [
         49,
         49,
         49
        ]
       },
       "acf749de-4f7f-4c24-a02b-185a4bc06431": {
        "id": "acf749de-4f7f-4c24-a02b-185a4bc06431",
        "rgb": [
         255,
         255,
         255
        ]
       }
      },
      "rules": {
       "a": {
        "color": "3626902d-6631-4d9f-b392-a24df3dc9d7e"
       },
       "h1": {
        "color": "3626902d-6631-4d9f-b392-a24df3dc9d7e",
        "font-size": 9
       },
       "h2": {
        "color": "3626902d-6631-4d9f-b392-a24df3dc9d7e",
        "font-size": 7
       },
       "h3": {
        "color": "acf749de-4f7f-4c24-a02b-185a4bc06431",
        "font-size": 5
       },
       "li": {
        "color": "acf749de-4f7f-4c24-a02b-185a4bc06431",
        "font-size": 5
       },
       "pre": {
        "font-family": "Anonymous Pro",
        "font-size": 4
       },
       "ul": {
        "color": "3626902d-6631-4d9f-b392-a24df3dc9d7e"
       }
      },
      "text-base": {
       "color": "acf749de-4f7f-4c24-a02b-185a4bc06431",
       "font-family": "Lato",
       "font-size": 4
      }
     }
    }
   }
  }
 },
 "nbformat": 4,
 "nbformat_minor": 0
}
