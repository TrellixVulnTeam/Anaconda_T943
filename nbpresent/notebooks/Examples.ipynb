{
 "cells": [
  {
   "cell_type": "markdown",
   "metadata": {
    "nbpresent": {
     "id": "8438b2c1-2e72-40e6-bfd4-89a9bff2628e"
    }
   },
   "source": [
    "#  nbpresent Examples"
   ]
  },
  {
   "cell_type": "markdown",
   "metadata": {
    "nbpresent": {
     "id": "08a1edb2-7b57-4697-be93-a89ee6aa355e"
    }
   },
   "source": [
    "Here are some examples of using nbpresent with rich third-party libraries like [Bokeh](http://bokeh.pydata.org/en/latest/), [qgrid](https://github.com/quantopian/qgrid) and [ipywidgets](https://github.com/ipython/ipywidgets)."
   ]
  },
  {
   "cell_type": "code",
   "execution_count": 15,
   "metadata": {
    "collapsed": false,
    "nbpresent": {
     "id": "f58d6fb4-3a5f-451c-bb39-bce8b6edc096"
    }
   },
   "outputs": [
    {
     "data": {
      "text/html": [
       "\n",
       "    <div class=\"bk-banner\">\n",
       "        <a href=\"http://bokeh.pydata.org\" target=\"_blank\" class=\"bk-logo bk-logo-small bk-logo-notebook\"></a>\n",
       "        <span id=\"8373e711-de81-4069-a95a-ca9967450689\">Loading BokehJS ...</span>\n",
       "    </div>"
      ]
     },
     "metadata": {},
     "output_type": "display_data"
    },
    {
     "data": {
      "application/javascript": [
       "\n",
       "(function(global) {\n",
       "  function now() {\n",
       "    return new Date();\n",
       "  }\n",
       "\n",
       "  if (typeof (window._bokeh_onload_callbacks) === \"undefined\") {\n",
       "    window._bokeh_onload_callbacks = [];\n",
       "  }\n",
       "\n",
       "  function run_callbacks() {\n",
       "    window._bokeh_onload_callbacks.forEach(function(callback) { callback() });\n",
       "    delete window._bokeh_onload_callbacks\n",
       "    console.info(\"Bokeh: all callbacks have finished\");\n",
       "  }\n",
       "\n",
       "  function load_libs(js_urls, callback) {\n",
       "    window._bokeh_onload_callbacks.push(callback);\n",
       "    if (window._bokeh_is_loading > 0) {\n",
       "      console.log(\"Bokeh: BokehJS is being loaded, scheduling callback at\", now());\n",
       "      return null;\n",
       "    }\n",
       "    if (js_urls == null || js_urls.length === 0) {\n",
       "      run_callbacks();\n",
       "      return null;\n",
       "    }\n",
       "    console.log(\"Bokeh: BokehJS not loaded, scheduling load and callback at\", now());\n",
       "    window._bokeh_is_loading = js_urls.length;\n",
       "    for (var i = 0; i < js_urls.length; i++) {\n",
       "      var url = js_urls[i];\n",
       "      var s = document.createElement('script');\n",
       "      s.src = url;\n",
       "      s.async = false;\n",
       "      s.onreadystatechange = s.onload = function() {\n",
       "        window._bokeh_is_loading--;\n",
       "        if (window._bokeh_is_loading === 0) {\n",
       "          console.log(\"Bokeh: all BokehJS libraries loaded\");\n",
       "          run_callbacks()\n",
       "        }\n",
       "      };\n",
       "      s.onerror = function() {\n",
       "        console.warn(\"failed to load library \" + url);\n",
       "      };\n",
       "      console.log(\"Bokeh: injecting script tag for BokehJS library: \", url);\n",
       "      document.getElementsByTagName(\"head\")[0].appendChild(s);\n",
       "    }\n",
       "  };\n",
       "\n",
       "  var js_urls = ['https://cdn.pydata.org/bokeh/release/bokeh-0.11.1.min.js', 'https://cdn.pydata.org/bokeh/release/bokeh-widgets-0.11.1.min.js', 'https://cdn.pydata.org/bokeh/release/bokeh-compiler-0.11.1.min.js'];\n",
       "\n",
       "  var inline_js = [\n",
       "    function(Bokeh) {\n",
       "      Bokeh.set_log_level(\"info\");\n",
       "    },\n",
       "    \n",
       "    function(Bokeh) {\n",
       "      Bokeh.$(\"#8373e711-de81-4069-a95a-ca9967450689\").text(\"BokehJS successfully loaded\");\n",
       "    },\n",
       "    function(Bokeh) {\n",
       "      console.log(\"Bokeh: injecting CSS: https://cdn.pydata.org/bokeh/release/bokeh-0.11.1.min.css\");\n",
       "      Bokeh.embed.inject_css(\"https://cdn.pydata.org/bokeh/release/bokeh-0.11.1.min.css\");\n",
       "      console.log(\"Bokeh: injecting CSS: https://cdn.pydata.org/bokeh/release/bokeh-widgets-0.11.1.min.css\");\n",
       "      Bokeh.embed.inject_css(\"https://cdn.pydata.org/bokeh/release/bokeh-widgets-0.11.1.min.css\");\n",
       "    }\n",
       "  ];\n",
       "\n",
       "  function run_inline_js() {\n",
       "    for (var i = 0; i < inline_js.length; i++) {\n",
       "      inline_js[i](window.Bokeh);\n",
       "    }\n",
       "  }\n",
       "\n",
       "  if (window._bokeh_is_loading === 0) {\n",
       "    console.log(\"Bokeh: BokehJS loaded, going straight to plotting\");\n",
       "    run_inline_js();\n",
       "  } else {\n",
       "    load_libs(js_urls, function() {\n",
       "      console.log(\"Bokeh: BokehJS plotting callback run at\", now());\n",
       "      run_inline_js();\n",
       "    });\n",
       "  }\n",
       "}(this));"
      ]
     },
     "metadata": {},
     "output_type": "display_data"
    }
   ],
   "source": [
    "from bokeh.sampledata.iris import flowers\n",
    "from bokeh.plotting import figure, show, output_notebook\n",
    "output_notebook()"
   ]
  },
  {
   "cell_type": "code",
   "execution_count": 16,
   "metadata": {
    "collapsed": false,
    "nbpresent": {
     "id": "7d0e1892-a7c0-467f-abfc-259acf3e117d"
    }
   },
   "outputs": [
    {
     "data": {
      "text/html": [
       "\n",
       "\n",
       "    <div class=\"plotdiv\" id=\"f7da8e03-48af-496d-b710-5581b1679e6a\"></div>\n",
       "<script type=\"text/javascript\">\n",
       "  \n",
       "  (function(global) {\n",
       "    function now() {\n",
       "      return new Date();\n",
       "    }\n",
       "  \n",
       "    if (typeof (window._bokeh_onload_callbacks) === \"undefined\") {\n",
       "      window._bokeh_onload_callbacks = [];\n",
       "    }\n",
       "  \n",
       "    function run_callbacks() {\n",
       "      window._bokeh_onload_callbacks.forEach(function(callback) { callback() });\n",
       "      delete window._bokeh_onload_callbacks\n",
       "      console.info(\"Bokeh: all callbacks have finished\");\n",
       "    }\n",
       "  \n",
       "    function load_libs(js_urls, callback) {\n",
       "      window._bokeh_onload_callbacks.push(callback);\n",
       "      if (window._bokeh_is_loading > 0) {\n",
       "        console.log(\"Bokeh: BokehJS is being loaded, scheduling callback at\", now());\n",
       "        return null;\n",
       "      }\n",
       "      if (js_urls == null || js_urls.length === 0) {\n",
       "        run_callbacks();\n",
       "        return null;\n",
       "      }\n",
       "      console.log(\"Bokeh: BokehJS not loaded, scheduling load and callback at\", now());\n",
       "      window._bokeh_is_loading = js_urls.length;\n",
       "      for (var i = 0; i < js_urls.length; i++) {\n",
       "        var url = js_urls[i];\n",
       "        var s = document.createElement('script');\n",
       "        s.src = url;\n",
       "        s.async = false;\n",
       "        s.onreadystatechange = s.onload = function() {\n",
       "          window._bokeh_is_loading--;\n",
       "          if (window._bokeh_is_loading === 0) {\n",
       "            console.log(\"Bokeh: all BokehJS libraries loaded\");\n",
       "            run_callbacks()\n",
       "          }\n",
       "        };\n",
       "        s.onerror = function() {\n",
       "          console.warn(\"failed to load library \" + url);\n",
       "        };\n",
       "        console.log(\"Bokeh: injecting script tag for BokehJS library: \", url);\n",
       "        document.getElementsByTagName(\"head\")[0].appendChild(s);\n",
       "      }\n",
       "    };var element = document.getElementById(\"f7da8e03-48af-496d-b710-5581b1679e6a\");\n",
       "    if (element == null) {\n",
       "      console.log(\"Bokeh: ERROR: autoload.js configured with elementid 'f7da8e03-48af-496d-b710-5581b1679e6a' but no matching script tag was found. \")\n",
       "      return false;\n",
       "    }\n",
       "  \n",
       "    var js_urls = [];\n",
       "  \n",
       "    var inline_js = [\n",
       "      function(Bokeh) {\n",
       "        Bokeh.$(function() {\n",
       "            var docs_json = {\"67b4f3c0-a276-4d97-a28e-12492e2a2a49\":{\"roots\":{\"references\":[{\"attributes\":{},\"id\":\"8134a6fe-438f-4f8b-be26-4e9f13cb2cfb\",\"type\":\"ToolEvents\"},{\"attributes\":{\"callback\":null},\"id\":\"992052fd-f5cf-4266-af8c-ce4e17af9add\",\"type\":\"DataRange1d\"},{\"attributes\":{},\"id\":\"e302ffb0-be06-4036-bbfa-04de1090fb54\",\"type\":\"BasicTicker\"},{\"attributes\":{\"fill_alpha\":{\"value\":0.2},\"fill_color\":{\"field\":\"fill_color\"},\"line_color\":{\"field\":\"line_color\"},\"size\":{\"units\":\"screen\",\"value\":10},\"x\":{\"field\":\"x\"},\"y\":{\"field\":\"y\"}},\"id\":\"e8f3910e-868e-4ad0-a219-553de789a8d7\",\"type\":\"Circle\"},{\"attributes\":{\"overlay\":{\"id\":\"cf6a0886-570c-4b68-8b77-aafa19f6b779\",\"type\":\"BoxAnnotation\"},\"plot\":{\"id\":\"91c8b801-65dc-4dce-b6ac-71da5aea4afc\",\"subtype\":\"Figure\",\"type\":\"Plot\"}},\"id\":\"7e27d24a-b9c5-474b-addf-426081142a8f\",\"type\":\"BoxZoomTool\"},{\"attributes\":{},\"id\":\"7e5c41ac-432c-4c80-9c67-520074a319be\",\"type\":\"BasicTicker\"},{\"attributes\":{\"plot\":{\"id\":\"25fd95ed-075f-4c87-99ac-620886e8333f\",\"subtype\":\"Figure\",\"type\":\"Plot\"}},\"id\":\"ccd16401-a98c-4f1e-a6f1-4a1e8cf6b4b2\",\"type\":\"ResetTool\"},{\"attributes\":{\"data_source\":{\"id\":\"00949cd6-0354-400a-8a5d-0eb7ffa39d9b\",\"type\":\"ColumnDataSource\"},\"glyph\":{\"id\":\"e8f3910e-868e-4ad0-a219-553de789a8d7\",\"type\":\"Circle\"},\"hover_glyph\":null,\"nonselection_glyph\":{\"id\":\"f2c6bcd0-3cd4-49c5-ae17-75a7d6722988\",\"type\":\"Circle\"},\"selection_glyph\":null},\"id\":\"0cc4f8ef-d6d4-4648-a1f6-9e41be64cf30\",\"type\":\"GlyphRenderer\"},{\"attributes\":{\"bottom_units\":\"screen\",\"fill_alpha\":{\"value\":0.5},\"fill_color\":{\"value\":\"lightgrey\"},\"left_units\":\"screen\",\"level\":\"overlay\",\"line_alpha\":{\"value\":1.0},\"line_color\":{\"value\":\"black\"},\"line_dash\":[4,4],\"line_width\":{\"value\":2},\"plot\":null,\"render_mode\":\"css\",\"right_units\":\"screen\",\"top_units\":\"screen\"},\"id\":\"b68440e7-3518-4023-9078-881dd034fa32\",\"type\":\"BoxAnnotation\"},{\"attributes\":{\"plot\":{\"id\":\"91c8b801-65dc-4dce-b6ac-71da5aea4afc\",\"subtype\":\"Figure\",\"type\":\"Plot\"}},\"id\":\"a19f447f-b427-4245-9ea3-8149649097b2\",\"type\":\"HelpTool\"},{\"attributes\":{\"plot\":{\"id\":\"7d5debef-d89b-446f-af31-6dafccb550a9\",\"subtype\":\"Figure\",\"type\":\"Plot\"}},\"id\":\"4ffadf05-3cca-4bee-a192-ca2a24006590\",\"type\":\"HelpTool\"},{\"attributes\":{\"plot\":{\"id\":\"7d5debef-d89b-446f-af31-6dafccb550a9\",\"subtype\":\"Figure\",\"type\":\"Plot\"}},\"id\":\"6185242b-b4f8-456d-a72f-57f1c496b102\",\"type\":\"PanTool\"},{\"attributes\":{\"plot\":{\"id\":\"25fd95ed-075f-4c87-99ac-620886e8333f\",\"subtype\":\"Figure\",\"type\":\"Plot\"},\"ticker\":{\"id\":\"7e5c41ac-432c-4c80-9c67-520074a319be\",\"type\":\"BasicTicker\"}},\"id\":\"7ae9d91c-2f82-4a72-9fae-6e35174a14f2\",\"type\":\"Grid\"},{\"attributes\":{\"plot\":{\"id\":\"91c8b801-65dc-4dce-b6ac-71da5aea4afc\",\"subtype\":\"Figure\",\"type\":\"Plot\"}},\"id\":\"3a723a99-e146-4a28-83c0-3ec9d1048742\",\"type\":\"PanTool\"},{\"attributes\":{\"axis_label\":\"Petal Width\",\"formatter\":{\"id\":\"08e826cb-601c-4d4d-8ce7-43110831a892\",\"type\":\"BasicTickFormatter\"},\"plot\":{\"id\":\"91c8b801-65dc-4dce-b6ac-71da5aea4afc\",\"subtype\":\"Figure\",\"type\":\"Plot\"},\"ticker\":{\"id\":\"e8807a2c-2b17-4cf5-921e-f706a72ba713\",\"type\":\"BasicTicker\"}},\"id\":\"e0db5e5b-8ef9-4b32-a5a9-0d0659e32ccb\",\"type\":\"LinearAxis\"},{\"attributes\":{\"data_source\":{\"id\":\"57768098-da38-4b77-9a95-62ddf7446c06\",\"type\":\"ColumnDataSource\"},\"glyph\":{\"id\":\"b4b1c818-b9c0-4108-95ee-3814d6f6c5e0\",\"type\":\"Circle\"},\"hover_glyph\":null,\"nonselection_glyph\":{\"id\":\"532dff0f-7344-47a0-9427-b45aa379d5ac\",\"type\":\"Circle\"},\"selection_glyph\":null},\"id\":\"774d8b8a-06fa-444f-a224-066d9403993e\",\"type\":\"GlyphRenderer\"},{\"attributes\":{},\"id\":\"01e3c029-c018-4a05-87ab-25ab9dfd8c39\",\"type\":\"ToolEvents\"},{\"attributes\":{\"fill_alpha\":{\"value\":0.1},\"fill_color\":{\"value\":\"#1f77b4\"},\"line_alpha\":{\"value\":0.1},\"line_color\":{\"value\":\"#1f77b4\"},\"size\":{\"units\":\"screen\",\"value\":10},\"x\":{\"field\":\"x\"},\"y\":{\"field\":\"y\"}},\"id\":\"f2c6bcd0-3cd4-49c5-ae17-75a7d6722988\",\"type\":\"Circle\"},{\"attributes\":{\"dimension\":1,\"plot\":{\"id\":\"91c8b801-65dc-4dce-b6ac-71da5aea4afc\",\"subtype\":\"Figure\",\"type\":\"Plot\"},\"ticker\":{\"id\":\"e8807a2c-2b17-4cf5-921e-f706a72ba713\",\"type\":\"BasicTicker\"}},\"id\":\"eeb4f6c2-5946-4b56-a17e-2d27af0a91ba\",\"type\":\"Grid\"},{\"attributes\":{\"plot\":{\"id\":\"25fd95ed-075f-4c87-99ac-620886e8333f\",\"subtype\":\"Figure\",\"type\":\"Plot\"}},\"id\":\"a8264d2a-6cf0-4c6a-9670-c839b8817ec2\",\"type\":\"ResizeTool\"},{\"attributes\":{\"plot\":{\"id\":\"7d5debef-d89b-446f-af31-6dafccb550a9\",\"subtype\":\"Figure\",\"type\":\"Plot\"}},\"id\":\"aa1fde39-1086-4212-9cfb-e3fd26d4df45\",\"type\":\"PreviewSaveTool\"},{\"attributes\":{\"callback\":null},\"id\":\"e5590d9a-0656-47fd-8025-1c75560aad63\",\"type\":\"DataRange1d\"},{\"attributes\":{\"plot\":{\"id\":\"91c8b801-65dc-4dce-b6ac-71da5aea4afc\",\"subtype\":\"Figure\",\"type\":\"Plot\"}},\"id\":\"1724522f-bc16-44b9-8bcb-c35dc34e8af6\",\"type\":\"ResetTool\"},{\"attributes\":{},\"id\":\"d29abee0-583a-4009-996c-bdf207c7f036\",\"type\":\"BasicTickFormatter\"},{\"attributes\":{\"plot\":{\"id\":\"7d5debef-d89b-446f-af31-6dafccb550a9\",\"subtype\":\"Figure\",\"type\":\"Plot\"}},\"id\":\"0145f36b-50b8-4c4e-9416-915d63582096\",\"type\":\"ResetTool\"},{\"attributes\":{\"fill_alpha\":{\"value\":0.2},\"fill_color\":{\"field\":\"fill_color\"},\"line_color\":{\"field\":\"line_color\"},\"size\":{\"units\":\"screen\",\"value\":10},\"x\":{\"field\":\"x\"},\"y\":{\"field\":\"y\"}},\"id\":\"b4b1c818-b9c0-4108-95ee-3814d6f6c5e0\",\"type\":\"Circle\"},{\"attributes\":{\"axis_label\":\"Petal Width\",\"formatter\":{\"id\":\"5f2da887-f06a-4777-8711-2ffca7af4544\",\"type\":\"BasicTickFormatter\"},\"plot\":{\"id\":\"7d5debef-d89b-446f-af31-6dafccb550a9\",\"subtype\":\"Figure\",\"type\":\"Plot\"},\"ticker\":{\"id\":\"4dfa0d04-d0d1-4f02-a9ac-5ef8276acd59\",\"type\":\"BasicTicker\"}},\"id\":\"c292eae4-e1e9-4ed2-b56b-8563986a67c7\",\"type\":\"LinearAxis\"},{\"attributes\":{\"axis_label\":\"Petal Width\",\"formatter\":{\"id\":\"0545ee19-a3d4-4e0c-b195-f51e15afb6d4\",\"type\":\"BasicTickFormatter\"},\"plot\":{\"id\":\"25fd95ed-075f-4c87-99ac-620886e8333f\",\"subtype\":\"Figure\",\"type\":\"Plot\"},\"ticker\":{\"id\":\"e302ffb0-be06-4036-bbfa-04de1090fb54\",\"type\":\"BasicTicker\"}},\"id\":\"520a4749-e087-4de3-a0b4-e5b18e44fa37\",\"type\":\"LinearAxis\"},{\"attributes\":{\"fill_alpha\":{\"value\":0.1},\"fill_color\":{\"value\":\"#1f77b4\"},\"line_alpha\":{\"value\":0.1},\"line_color\":{\"value\":\"#1f77b4\"},\"size\":{\"units\":\"screen\",\"value\":10},\"x\":{\"field\":\"x\"},\"y\":{\"field\":\"y\"}},\"id\":\"532dff0f-7344-47a0-9427-b45aa379d5ac\",\"type\":\"Circle\"},{\"attributes\":{},\"id\":\"0545ee19-a3d4-4e0c-b195-f51e15afb6d4\",\"type\":\"BasicTickFormatter\"},{\"attributes\":{\"plot\":{\"id\":\"91c8b801-65dc-4dce-b6ac-71da5aea4afc\",\"subtype\":\"Figure\",\"type\":\"Plot\"}},\"id\":\"1d15293f-5616-40c7-bfe7-1b89b2386b94\",\"type\":\"WheelZoomTool\"},{\"attributes\":{\"callback\":null},\"id\":\"8976e00a-f7bd-4d82-968f-0e8a2b8184ff\",\"type\":\"DataRange1d\"},{\"attributes\":{},\"id\":\"117f2235-617e-4e7f-9939-6fc6575a5dd7\",\"type\":\"BasicTicker\"},{\"attributes\":{\"callback\":null,\"column_names\":[\"x\",\"y\",\"line_color\",\"fill_color\"],\"data\":{\"fill_color\":[\"red\",\"red\",\"red\",\"red\",\"red\",\"red\",\"red\",\"red\",\"red\",\"red\",\"red\",\"red\",\"red\",\"red\",\"red\",\"red\",\"red\",\"red\",\"red\",\"red\",\"red\",\"red\",\"red\",\"red\",\"red\",\"red\",\"red\",\"red\",\"red\",\"red\",\"red\",\"red\",\"red\",\"red\",\"red\",\"red\",\"red\",\"red\",\"red\",\"red\",\"red\",\"red\",\"red\",\"red\",\"red\",\"red\",\"red\",\"red\",\"red\",\"red\",\"green\",\"green\",\"green\",\"green\",\"green\",\"green\",\"green\",\"green\",\"green\",\"green\",\"green\",\"green\",\"green\",\"green\",\"green\",\"green\",\"green\",\"green\",\"green\",\"green\",\"green\",\"green\",\"green\",\"green\",\"green\",\"green\",\"green\",\"green\",\"green\",\"green\",\"green\",\"green\",\"green\",\"green\",\"green\",\"green\",\"green\",\"green\",\"green\",\"green\",\"green\",\"green\",\"green\",\"green\",\"green\",\"green\",\"green\",\"green\",\"green\",\"green\",\"blue\",\"blue\",\"blue\",\"blue\",\"blue\",\"blue\",\"blue\",\"blue\",\"blue\",\"blue\",\"blue\",\"blue\",\"blue\",\"blue\",\"blue\",\"blue\",\"blue\",\"blue\",\"blue\",\"blue\",\"blue\",\"blue\",\"blue\",\"blue\",\"blue\",\"blue\",\"blue\",\"blue\",\"blue\",\"blue\",\"blue\",\"blue\",\"blue\",\"blue\",\"blue\",\"blue\",\"blue\",\"blue\",\"blue\",\"blue\",\"blue\",\"blue\",\"blue\",\"blue\",\"blue\",\"blue\",\"blue\",\"blue\",\"blue\",\"blue\"],\"line_color\":[\"red\",\"red\",\"red\",\"red\",\"red\",\"red\",\"red\",\"red\",\"red\",\"red\",\"red\",\"red\",\"red\",\"red\",\"red\",\"red\",\"red\",\"red\",\"red\",\"red\",\"red\",\"red\",\"red\",\"red\",\"red\",\"red\",\"red\",\"red\",\"red\",\"red\",\"red\",\"red\",\"red\",\"red\",\"red\",\"red\",\"red\",\"red\",\"red\",\"red\",\"red\",\"red\",\"red\",\"red\",\"red\",\"red\",\"red\",\"red\",\"red\",\"red\",\"green\",\"green\",\"green\",\"green\",\"green\",\"green\",\"green\",\"green\",\"green\",\"green\",\"green\",\"green\",\"green\",\"green\",\"green\",\"green\",\"green\",\"green\",\"green\",\"green\",\"green\",\"green\",\"green\",\"green\",\"green\",\"green\",\"green\",\"green\",\"green\",\"green\",\"green\",\"green\",\"green\",\"green\",\"green\",\"green\",\"green\",\"green\",\"green\",\"green\",\"green\",\"green\",\"green\",\"green\",\"green\",\"green\",\"green\",\"green\",\"green\",\"green\",\"blue\",\"blue\",\"blue\",\"blue\",\"blue\",\"blue\",\"blue\",\"blue\",\"blue\",\"blue\",\"blue\",\"blue\",\"blue\",\"blue\",\"blue\",\"blue\",\"blue\",\"blue\",\"blue\",\"blue\",\"blue\",\"blue\",\"blue\",\"blue\",\"blue\",\"blue\",\"blue\",\"blue\",\"blue\",\"blue\",\"blue\",\"blue\",\"blue\",\"blue\",\"blue\",\"blue\",\"blue\",\"blue\",\"blue\",\"blue\",\"blue\",\"blue\",\"blue\",\"blue\",\"blue\",\"blue\",\"blue\",\"blue\",\"blue\",\"blue\"],\"x\":[1.4,1.4,1.3,1.5,1.4,1.7,1.4,1.5,1.4,1.5,1.5,1.6,1.4,1.1,1.2,1.5,1.3,1.4,1.7,1.5,1.7,1.5,1.0,1.7,1.9,1.6,1.6,1.5,1.4,1.6,1.6,1.5,1.5,1.4,1.5,1.2,1.3,1.4,1.3,1.5,1.3,1.3,1.3,1.6,1.9,1.4,1.6,1.4,1.5,1.4,4.7,4.5,4.9,4.0,4.6,4.5,4.7,3.3,4.6,3.9,3.5,4.2,4.0,4.7,3.6,4.4,4.5,4.1,4.5,3.9,4.8,4.0,4.9,4.7,4.3,4.4,4.8,5.0,4.5,3.5,3.8,3.7,3.9,5.1,4.5,4.5,4.7,4.4,4.1,4.0,4.4,4.6,4.0,3.3,4.2,4.2,4.2,4.3,3.0,4.1,6.0,5.1,5.9,5.6,5.8,6.6,4.5,6.3,5.8,6.1,5.1,5.3,5.5,5.0,5.1,5.3,5.5,6.7,6.9,5.0,5.7,4.9,6.7,4.9,5.7,6.0,4.8,4.9,5.6,5.8,6.1,6.4,5.6,5.1,5.6,6.1,5.6,5.5,4.8,5.4,5.6,5.1,5.1,5.9,5.7,5.2,5.0,5.2,5.4,5.1],\"y\":[0.2,0.2,0.2,0.2,0.2,0.4,0.3,0.2,0.2,0.1,0.2,0.2,0.1,0.1,0.2,0.4,0.4,0.3,0.3,0.3,0.2,0.4,0.2,0.5,0.2,0.2,0.4,0.2,0.2,0.2,0.2,0.4,0.1,0.2,0.2,0.2,0.2,0.1,0.2,0.2,0.3,0.3,0.2,0.6,0.4,0.3,0.2,0.2,0.2,0.2,1.4,1.5,1.5,1.3,1.5,1.3,1.6,1.0,1.3,1.4,1.0,1.5,1.0,1.4,1.3,1.4,1.5,1.0,1.5,1.1,1.8,1.3,1.5,1.2,1.3,1.4,1.4,1.7,1.5,1.0,1.1,1.0,1.2,1.6,1.5,1.6,1.5,1.3,1.3,1.3,1.2,1.4,1.2,1.0,1.3,1.2,1.3,1.3,1.1,1.3,2.5,1.9,2.1,1.8,2.2,2.1,1.7,1.8,1.8,2.5,2.0,1.9,2.1,2.0,2.4,2.3,1.8,2.2,2.3,1.5,2.3,2.0,2.0,1.8,2.1,1.8,1.8,1.8,2.1,1.6,1.9,2.0,2.2,1.5,1.4,2.3,2.4,1.8,1.8,2.1,2.4,2.3,1.9,2.3,2.5,2.3,1.9,2.0,2.3,1.8]}},\"id\":\"de534089-67ff-43be-956f-5a1c098f3a1f\",\"type\":\"ColumnDataSource\"},{\"attributes\":{\"plot\":{\"id\":\"25fd95ed-075f-4c87-99ac-620886e8333f\",\"subtype\":\"Figure\",\"type\":\"Plot\"}},\"id\":\"400911e6-365f-41a0-94c0-0630a4f4db43\",\"type\":\"PanTool\"},{\"attributes\":{\"fill_alpha\":{\"value\":0.1},\"fill_color\":{\"value\":\"#1f77b4\"},\"line_alpha\":{\"value\":0.1},\"line_color\":{\"value\":\"#1f77b4\"},\"size\":{\"units\":\"screen\",\"value\":10},\"x\":{\"field\":\"x\"},\"y\":{\"field\":\"y\"}},\"id\":\"46188f99-5d9b-4d1c-8059-2ce33948f02d\",\"type\":\"Circle\"},{\"attributes\":{\"bottom_units\":\"screen\",\"fill_alpha\":{\"value\":0.5},\"fill_color\":{\"value\":\"lightgrey\"},\"left_units\":\"screen\",\"level\":\"overlay\",\"line_alpha\":{\"value\":1.0},\"line_color\":{\"value\":\"black\"},\"line_dash\":[4,4],\"line_width\":{\"value\":2},\"plot\":null,\"render_mode\":\"css\",\"right_units\":\"screen\",\"top_units\":\"screen\"},\"id\":\"cf6a0886-570c-4b68-8b77-aafa19f6b779\",\"type\":\"BoxAnnotation\"},{\"attributes\":{\"plot\":{\"id\":\"7d5debef-d89b-446f-af31-6dafccb550a9\",\"subtype\":\"Figure\",\"type\":\"Plot\"}},\"id\":\"134d41b6-ab44-473f-a3d3-234c2cdd2561\",\"type\":\"WheelZoomTool\"},{\"attributes\":{},\"id\":\"282a9bc5-e979-4730-a702-fbcf210bccb1\",\"type\":\"BasicTickFormatter\"},{\"attributes\":{\"data_source\":{\"id\":\"de534089-67ff-43be-956f-5a1c098f3a1f\",\"type\":\"ColumnDataSource\"},\"glyph\":{\"id\":\"59fe874e-a9b3-4272-935b-d94e5c8f50fd\",\"type\":\"Circle\"},\"hover_glyph\":null,\"nonselection_glyph\":{\"id\":\"46188f99-5d9b-4d1c-8059-2ce33948f02d\",\"type\":\"Circle\"},\"selection_glyph\":null},\"id\":\"bf163fa2-9a82-4b9d-a6c7-75009fa667fd\",\"type\":\"GlyphRenderer\"},{\"attributes\":{\"overlay\":{\"id\":\"cfdd7e2c-f8fe-486e-90ec-7a565d977dac\",\"type\":\"BoxAnnotation\"},\"plot\":{\"id\":\"7d5debef-d89b-446f-af31-6dafccb550a9\",\"subtype\":\"Figure\",\"type\":\"Plot\"}},\"id\":\"3cac9264-ab8d-4b7a-baf5-1f21baef87f8\",\"type\":\"BoxZoomTool\"},{\"attributes\":{},\"id\":\"04cfc66c-dccb-4fee-a7c2-46b02b0a0e3e\",\"type\":\"ToolEvents\"},{\"attributes\":{\"callback\":null},\"id\":\"4524a62c-2ae5-46e7-9c39-6a3d28d674a0\",\"type\":\"DataRange1d\"},{\"attributes\":{\"overlay\":{\"id\":\"b68440e7-3518-4023-9078-881dd034fa32\",\"type\":\"BoxAnnotation\"},\"plot\":{\"id\":\"25fd95ed-075f-4c87-99ac-620886e8333f\",\"subtype\":\"Figure\",\"type\":\"Plot\"}},\"id\":\"65cc9673-54e5-4f31-abc1-fc2d165589f7\",\"type\":\"BoxZoomTool\"},{\"attributes\":{\"plot\":{\"id\":\"25fd95ed-075f-4c87-99ac-620886e8333f\",\"subtype\":\"Figure\",\"type\":\"Plot\"}},\"id\":\"254c8a2a-b3a0-4cf3-8808-d4cd6df9ca42\",\"type\":\"PreviewSaveTool\"},{\"attributes\":{\"callback\":null},\"id\":\"82527851-e586-4518-95c9-bda41f72abf4\",\"type\":\"DataRange1d\"},{\"attributes\":{\"plot\":{\"id\":\"25fd95ed-075f-4c87-99ac-620886e8333f\",\"subtype\":\"Figure\",\"type\":\"Plot\"}},\"id\":\"27ede5c2-dc19-4115-80ea-826cef1531ab\",\"type\":\"WheelZoomTool\"},{\"attributes\":{\"plot\":{\"id\":\"7d5debef-d89b-446f-af31-6dafccb550a9\",\"subtype\":\"Figure\",\"type\":\"Plot\"}},\"id\":\"01479ee5-9a5f-4b5f-addf-ebf42975f43c\",\"type\":\"ResizeTool\"},{\"attributes\":{},\"id\":\"08e826cb-601c-4d4d-8ce7-43110831a892\",\"type\":\"BasicTickFormatter\"},{\"attributes\":{\"below\":[{\"id\":\"0eac69b8-3ca4-4b63-9c00-8f87dc1adee4\",\"type\":\"LinearAxis\"}],\"left\":[{\"id\":\"e0db5e5b-8ef9-4b32-a5a9-0d0659e32ccb\",\"type\":\"LinearAxis\"}],\"plot_height\":700,\"plot_width\":1000,\"renderers\":[{\"id\":\"0eac69b8-3ca4-4b63-9c00-8f87dc1adee4\",\"type\":\"LinearAxis\"},{\"id\":\"e13b3cce-1633-4f9f-8e1e-b0d933e63d33\",\"type\":\"Grid\"},{\"id\":\"e0db5e5b-8ef9-4b32-a5a9-0d0659e32ccb\",\"type\":\"LinearAxis\"},{\"id\":\"eeb4f6c2-5946-4b56-a17e-2d27af0a91ba\",\"type\":\"Grid\"},{\"id\":\"cf6a0886-570c-4b68-8b77-aafa19f6b779\",\"type\":\"BoxAnnotation\"},{\"id\":\"0cc4f8ef-d6d4-4648-a1f6-9e41be64cf30\",\"type\":\"GlyphRenderer\"}],\"title\":\"Iris Morphology\",\"tool_events\":{\"id\":\"01e3c029-c018-4a05-87ab-25ab9dfd8c39\",\"type\":\"ToolEvents\"},\"tools\":[{\"id\":\"3a723a99-e146-4a28-83c0-3ec9d1048742\",\"type\":\"PanTool\"},{\"id\":\"1d15293f-5616-40c7-bfe7-1b89b2386b94\",\"type\":\"WheelZoomTool\"},{\"id\":\"7e27d24a-b9c5-474b-addf-426081142a8f\",\"type\":\"BoxZoomTool\"},{\"id\":\"d4829a23-7a7a-423c-a877-1b4948cb7e21\",\"type\":\"PreviewSaveTool\"},{\"id\":\"a297705e-fff9-4aca-a4e4-e151822d7851\",\"type\":\"ResizeTool\"},{\"id\":\"1724522f-bc16-44b9-8bcb-c35dc34e8af6\",\"type\":\"ResetTool\"},{\"id\":\"a19f447f-b427-4245-9ea3-8149649097b2\",\"type\":\"HelpTool\"}],\"x_range\":{\"id\":\"4524a62c-2ae5-46e7-9c39-6a3d28d674a0\",\"type\":\"DataRange1d\"},\"y_range\":{\"id\":\"992052fd-f5cf-4266-af8c-ce4e17af9add\",\"type\":\"DataRange1d\"}},\"id\":\"91c8b801-65dc-4dce-b6ac-71da5aea4afc\",\"subtype\":\"Figure\",\"type\":\"Plot\"},{\"attributes\":{\"bottom_units\":\"screen\",\"fill_alpha\":{\"value\":0.5},\"fill_color\":{\"value\":\"lightgrey\"},\"left_units\":\"screen\",\"level\":\"overlay\",\"line_alpha\":{\"value\":1.0},\"line_color\":{\"value\":\"black\"},\"line_dash\":[4,4],\"line_width\":{\"value\":2},\"plot\":null,\"render_mode\":\"css\",\"right_units\":\"screen\",\"top_units\":\"screen\"},\"id\":\"cfdd7e2c-f8fe-486e-90ec-7a565d977dac\",\"type\":\"BoxAnnotation\"},{\"attributes\":{\"plot\":{\"id\":\"25fd95ed-075f-4c87-99ac-620886e8333f\",\"subtype\":\"Figure\",\"type\":\"Plot\"}},\"id\":\"29a06ba2-fe42-4471-b9a2-bda2f1104f8d\",\"type\":\"HelpTool\"},{\"attributes\":{\"plot\":{\"id\":\"7d5debef-d89b-446f-af31-6dafccb550a9\",\"subtype\":\"Figure\",\"type\":\"Plot\"},\"ticker\":{\"id\":\"e3901a06-ef60-4a5a-8b39-66ef86f7cd70\",\"type\":\"BasicTicker\"}},\"id\":\"e7436001-7f5e-4270-904a-64cf1e6d8b0f\",\"type\":\"Grid\"},{\"attributes\":{},\"id\":\"5f2da887-f06a-4777-8711-2ffca7af4544\",\"type\":\"BasicTickFormatter\"},{\"attributes\":{\"dimension\":1,\"plot\":{\"id\":\"7d5debef-d89b-446f-af31-6dafccb550a9\",\"subtype\":\"Figure\",\"type\":\"Plot\"},\"ticker\":{\"id\":\"4dfa0d04-d0d1-4f02-a9ac-5ef8276acd59\",\"type\":\"BasicTicker\"}},\"id\":\"1f905f4a-b973-4702-9a70-9458be1a75d5\",\"type\":\"Grid\"},{\"attributes\":{},\"id\":\"e8807a2c-2b17-4cf5-921e-f706a72ba713\",\"type\":\"BasicTicker\"},{\"attributes\":{},\"id\":\"e3901a06-ef60-4a5a-8b39-66ef86f7cd70\",\"type\":\"BasicTicker\"},{\"attributes\":{},\"id\":\"4dfa0d04-d0d1-4f02-a9ac-5ef8276acd59\",\"type\":\"BasicTicker\"},{\"attributes\":{\"dimension\":1,\"plot\":{\"id\":\"25fd95ed-075f-4c87-99ac-620886e8333f\",\"subtype\":\"Figure\",\"type\":\"Plot\"},\"ticker\":{\"id\":\"e302ffb0-be06-4036-bbfa-04de1090fb54\",\"type\":\"BasicTicker\"}},\"id\":\"8b5a8008-6446-4dd3-8af9-77cd4800f240\",\"type\":\"Grid\"},{\"attributes\":{\"plot\":{\"id\":\"91c8b801-65dc-4dce-b6ac-71da5aea4afc\",\"subtype\":\"Figure\",\"type\":\"Plot\"},\"ticker\":{\"id\":\"117f2235-617e-4e7f-9939-6fc6575a5dd7\",\"type\":\"BasicTicker\"}},\"id\":\"e13b3cce-1633-4f9f-8e1e-b0d933e63d33\",\"type\":\"Grid\"},{\"attributes\":{\"below\":[{\"id\":\"4e125583-911e-412f-a763-37b9f79cd256\",\"type\":\"LinearAxis\"}],\"left\":[{\"id\":\"c292eae4-e1e9-4ed2-b56b-8563986a67c7\",\"type\":\"LinearAxis\"}],\"plot_height\":700,\"plot_width\":1000,\"renderers\":[{\"id\":\"4e125583-911e-412f-a763-37b9f79cd256\",\"type\":\"LinearAxis\"},{\"id\":\"e7436001-7f5e-4270-904a-64cf1e6d8b0f\",\"type\":\"Grid\"},{\"id\":\"c292eae4-e1e9-4ed2-b56b-8563986a67c7\",\"type\":\"LinearAxis\"},{\"id\":\"1f905f4a-b973-4702-9a70-9458be1a75d5\",\"type\":\"Grid\"},{\"id\":\"cfdd7e2c-f8fe-486e-90ec-7a565d977dac\",\"type\":\"BoxAnnotation\"},{\"id\":\"774d8b8a-06fa-444f-a224-066d9403993e\",\"type\":\"GlyphRenderer\"}],\"title\":\"Iris Morphology\",\"tool_events\":{\"id\":\"04cfc66c-dccb-4fee-a7c2-46b02b0a0e3e\",\"type\":\"ToolEvents\"},\"tools\":[{\"id\":\"6185242b-b4f8-456d-a72f-57f1c496b102\",\"type\":\"PanTool\"},{\"id\":\"134d41b6-ab44-473f-a3d3-234c2cdd2561\",\"type\":\"WheelZoomTool\"},{\"id\":\"3cac9264-ab8d-4b7a-baf5-1f21baef87f8\",\"type\":\"BoxZoomTool\"},{\"id\":\"aa1fde39-1086-4212-9cfb-e3fd26d4df45\",\"type\":\"PreviewSaveTool\"},{\"id\":\"01479ee5-9a5f-4b5f-addf-ebf42975f43c\",\"type\":\"ResizeTool\"},{\"id\":\"0145f36b-50b8-4c4e-9416-915d63582096\",\"type\":\"ResetTool\"},{\"id\":\"4ffadf05-3cca-4bee-a192-ca2a24006590\",\"type\":\"HelpTool\"}],\"x_range\":{\"id\":\"82527851-e586-4518-95c9-bda41f72abf4\",\"type\":\"DataRange1d\"},\"y_range\":{\"id\":\"e5590d9a-0656-47fd-8025-1c75560aad63\",\"type\":\"DataRange1d\"}},\"id\":\"7d5debef-d89b-446f-af31-6dafccb550a9\",\"subtype\":\"Figure\",\"type\":\"Plot\"},{\"attributes\":{\"axis_label\":\"Petal Length\",\"formatter\":{\"id\":\"282a9bc5-e979-4730-a702-fbcf210bccb1\",\"type\":\"BasicTickFormatter\"},\"plot\":{\"id\":\"91c8b801-65dc-4dce-b6ac-71da5aea4afc\",\"subtype\":\"Figure\",\"type\":\"Plot\"},\"ticker\":{\"id\":\"117f2235-617e-4e7f-9939-6fc6575a5dd7\",\"type\":\"BasicTicker\"}},\"id\":\"0eac69b8-3ca4-4b63-9c00-8f87dc1adee4\",\"type\":\"LinearAxis\"},{\"attributes\":{\"plot\":{\"id\":\"91c8b801-65dc-4dce-b6ac-71da5aea4afc\",\"subtype\":\"Figure\",\"type\":\"Plot\"}},\"id\":\"d4829a23-7a7a-423c-a877-1b4948cb7e21\",\"type\":\"PreviewSaveTool\"},{\"attributes\":{\"callback\":null,\"column_names\":[\"x\",\"y\",\"line_color\",\"fill_color\"],\"data\":{\"fill_color\":[\"red\",\"red\",\"red\",\"red\",\"red\",\"red\",\"red\",\"red\",\"red\",\"red\",\"red\",\"red\",\"red\",\"red\",\"red\",\"red\",\"red\",\"red\",\"red\",\"red\",\"red\",\"red\",\"red\",\"red\",\"red\",\"red\",\"red\",\"red\",\"red\",\"red\",\"red\",\"red\",\"red\",\"red\",\"red\",\"red\",\"red\",\"red\",\"red\",\"red\",\"red\",\"red\",\"red\",\"red\",\"red\",\"red\",\"red\",\"red\",\"red\",\"red\",\"green\",\"green\",\"green\",\"green\",\"green\",\"green\",\"green\",\"green\",\"green\",\"green\",\"green\",\"green\",\"green\",\"green\",\"green\",\"green\",\"green\",\"green\",\"green\",\"green\",\"green\",\"green\",\"green\",\"green\",\"green\",\"green\",\"green\",\"green\",\"green\",\"green\",\"green\",\"green\",\"green\",\"green\",\"green\",\"green\",\"green\",\"green\",\"green\",\"green\",\"green\",\"green\",\"green\",\"green\",\"green\",\"green\",\"green\",\"green\",\"green\",\"green\",\"blue\",\"blue\",\"blue\",\"blue\",\"blue\",\"blue\",\"blue\",\"blue\",\"blue\",\"blue\",\"blue\",\"blue\",\"blue\",\"blue\",\"blue\",\"blue\",\"blue\",\"blue\",\"blue\",\"blue\",\"blue\",\"blue\",\"blue\",\"blue\",\"blue\",\"blue\",\"blue\",\"blue\",\"blue\",\"blue\",\"blue\",\"blue\",\"blue\",\"blue\",\"blue\",\"blue\",\"blue\",\"blue\",\"blue\",\"blue\",\"blue\",\"blue\",\"blue\",\"blue\",\"blue\",\"blue\",\"blue\",\"blue\",\"blue\",\"blue\"],\"line_color\":[\"red\",\"red\",\"red\",\"red\",\"red\",\"red\",\"red\",\"red\",\"red\",\"red\",\"red\",\"red\",\"red\",\"red\",\"red\",\"red\",\"red\",\"red\",\"red\",\"red\",\"red\",\"red\",\"red\",\"red\",\"red\",\"red\",\"red\",\"red\",\"red\",\"red\",\"red\",\"red\",\"red\",\"red\",\"red\",\"red\",\"red\",\"red\",\"red\",\"red\",\"red\",\"red\",\"red\",\"red\",\"red\",\"red\",\"red\",\"red\",\"red\",\"red\",\"green\",\"green\",\"green\",\"green\",\"green\",\"green\",\"green\",\"green\",\"green\",\"green\",\"green\",\"green\",\"green\",\"green\",\"green\",\"green\",\"green\",\"green\",\"green\",\"green\",\"green\",\"green\",\"green\",\"green\",\"green\",\"green\",\"green\",\"green\",\"green\",\"green\",\"green\",\"green\",\"green\",\"green\",\"green\",\"green\",\"green\",\"green\",\"green\",\"green\",\"green\",\"green\",\"green\",\"green\",\"green\",\"green\",\"green\",\"green\",\"green\",\"green\",\"blue\",\"blue\",\"blue\",\"blue\",\"blue\",\"blue\",\"blue\",\"blue\",\"blue\",\"blue\",\"blue\",\"blue\",\"blue\",\"blue\",\"blue\",\"blue\",\"blue\",\"blue\",\"blue\",\"blue\",\"blue\",\"blue\",\"blue\",\"blue\",\"blue\",\"blue\",\"blue\",\"blue\",\"blue\",\"blue\",\"blue\",\"blue\",\"blue\",\"blue\",\"blue\",\"blue\",\"blue\",\"blue\",\"blue\",\"blue\",\"blue\",\"blue\",\"blue\",\"blue\",\"blue\",\"blue\",\"blue\",\"blue\",\"blue\",\"blue\"],\"x\":[1.4,1.4,1.3,1.5,1.4,1.7,1.4,1.5,1.4,1.5,1.5,1.6,1.4,1.1,1.2,1.5,1.3,1.4,1.7,1.5,1.7,1.5,1.0,1.7,1.9,1.6,1.6,1.5,1.4,1.6,1.6,1.5,1.5,1.4,1.5,1.2,1.3,1.4,1.3,1.5,1.3,1.3,1.3,1.6,1.9,1.4,1.6,1.4,1.5,1.4,4.7,4.5,4.9,4.0,4.6,4.5,4.7,3.3,4.6,3.9,3.5,4.2,4.0,4.7,3.6,4.4,4.5,4.1,4.5,3.9,4.8,4.0,4.9,4.7,4.3,4.4,4.8,5.0,4.5,3.5,3.8,3.7,3.9,5.1,4.5,4.5,4.7,4.4,4.1,4.0,4.4,4.6,4.0,3.3,4.2,4.2,4.2,4.3,3.0,4.1,6.0,5.1,5.9,5.6,5.8,6.6,4.5,6.3,5.8,6.1,5.1,5.3,5.5,5.0,5.1,5.3,5.5,6.7,6.9,5.0,5.7,4.9,6.7,4.9,5.7,6.0,4.8,4.9,5.6,5.8,6.1,6.4,5.6,5.1,5.6,6.1,5.6,5.5,4.8,5.4,5.6,5.1,5.1,5.9,5.7,5.2,5.0,5.2,5.4,5.1],\"y\":[0.2,0.2,0.2,0.2,0.2,0.4,0.3,0.2,0.2,0.1,0.2,0.2,0.1,0.1,0.2,0.4,0.4,0.3,0.3,0.3,0.2,0.4,0.2,0.5,0.2,0.2,0.4,0.2,0.2,0.2,0.2,0.4,0.1,0.2,0.2,0.2,0.2,0.1,0.2,0.2,0.3,0.3,0.2,0.6,0.4,0.3,0.2,0.2,0.2,0.2,1.4,1.5,1.5,1.3,1.5,1.3,1.6,1.0,1.3,1.4,1.0,1.5,1.0,1.4,1.3,1.4,1.5,1.0,1.5,1.1,1.8,1.3,1.5,1.2,1.3,1.4,1.4,1.7,1.5,1.0,1.1,1.0,1.2,1.6,1.5,1.6,1.5,1.3,1.3,1.3,1.2,1.4,1.2,1.0,1.3,1.2,1.3,1.3,1.1,1.3,2.5,1.9,2.1,1.8,2.2,2.1,1.7,1.8,1.8,2.5,2.0,1.9,2.1,2.0,2.4,2.3,1.8,2.2,2.3,1.5,2.3,2.0,2.0,1.8,2.1,1.8,1.8,1.8,2.1,1.6,1.9,2.0,2.2,1.5,1.4,2.3,2.4,1.8,1.8,2.1,2.4,2.3,1.9,2.3,2.5,2.3,1.9,2.0,2.3,1.8]}},\"id\":\"00949cd6-0354-400a-8a5d-0eb7ffa39d9b\",\"type\":\"ColumnDataSource\"},{\"attributes\":{\"callback\":null},\"id\":\"19a3c5e8-6b26-4bc1-b415-8414f366fe9a\",\"type\":\"DataRange1d\"},{\"attributes\":{\"plot\":{\"id\":\"91c8b801-65dc-4dce-b6ac-71da5aea4afc\",\"subtype\":\"Figure\",\"type\":\"Plot\"}},\"id\":\"a297705e-fff9-4aca-a4e4-e151822d7851\",\"type\":\"ResizeTool\"},{\"attributes\":{},\"id\":\"6c7b6580-bac0-4b50-8204-b098ae7008a7\",\"type\":\"BasicTickFormatter\"},{\"attributes\":{\"axis_label\":\"Petal Length\",\"formatter\":{\"id\":\"6c7b6580-bac0-4b50-8204-b098ae7008a7\",\"type\":\"BasicTickFormatter\"},\"plot\":{\"id\":\"7d5debef-d89b-446f-af31-6dafccb550a9\",\"subtype\":\"Figure\",\"type\":\"Plot\"},\"ticker\":{\"id\":\"e3901a06-ef60-4a5a-8b39-66ef86f7cd70\",\"type\":\"BasicTicker\"}},\"id\":\"4e125583-911e-412f-a763-37b9f79cd256\",\"type\":\"LinearAxis\"},{\"attributes\":{\"fill_alpha\":{\"value\":0.2},\"fill_color\":{\"field\":\"fill_color\"},\"line_color\":{\"field\":\"line_color\"},\"size\":{\"units\":\"screen\",\"value\":10},\"x\":{\"field\":\"x\"},\"y\":{\"field\":\"y\"}},\"id\":\"59fe874e-a9b3-4272-935b-d94e5c8f50fd\",\"type\":\"Circle\"},{\"attributes\":{\"axis_label\":\"Petal Length\",\"formatter\":{\"id\":\"d29abee0-583a-4009-996c-bdf207c7f036\",\"type\":\"BasicTickFormatter\"},\"plot\":{\"id\":\"25fd95ed-075f-4c87-99ac-620886e8333f\",\"subtype\":\"Figure\",\"type\":\"Plot\"},\"ticker\":{\"id\":\"7e5c41ac-432c-4c80-9c67-520074a319be\",\"type\":\"BasicTicker\"}},\"id\":\"1b1f6391-aba4-4eac-bb4c-06a3d04e4552\",\"type\":\"LinearAxis\"},{\"attributes\":{\"callback\":null,\"column_names\":[\"x\",\"y\",\"line_color\",\"fill_color\"],\"data\":{\"fill_color\":[\"red\",\"red\",\"red\",\"red\",\"red\",\"red\",\"red\",\"red\",\"red\",\"red\",\"red\",\"red\",\"red\",\"red\",\"red\",\"red\",\"red\",\"red\",\"red\",\"red\",\"red\",\"red\",\"red\",\"red\",\"red\",\"red\",\"red\",\"red\",\"red\",\"red\",\"red\",\"red\",\"red\",\"red\",\"red\",\"red\",\"red\",\"red\",\"red\",\"red\",\"red\",\"red\",\"red\",\"red\",\"red\",\"red\",\"red\",\"red\",\"red\",\"red\",\"green\",\"green\",\"green\",\"green\",\"green\",\"green\",\"green\",\"green\",\"green\",\"green\",\"green\",\"green\",\"green\",\"green\",\"green\",\"green\",\"green\",\"green\",\"green\",\"green\",\"green\",\"green\",\"green\",\"green\",\"green\",\"green\",\"green\",\"green\",\"green\",\"green\",\"green\",\"green\",\"green\",\"green\",\"green\",\"green\",\"green\",\"green\",\"green\",\"green\",\"green\",\"green\",\"green\",\"green\",\"green\",\"green\",\"green\",\"green\",\"green\",\"green\",\"blue\",\"blue\",\"blue\",\"blue\",\"blue\",\"blue\",\"blue\",\"blue\",\"blue\",\"blue\",\"blue\",\"blue\",\"blue\",\"blue\",\"blue\",\"blue\",\"blue\",\"blue\",\"blue\",\"blue\",\"blue\",\"blue\",\"blue\",\"blue\",\"blue\",\"blue\",\"blue\",\"blue\",\"blue\",\"blue\",\"blue\",\"blue\",\"blue\",\"blue\",\"blue\",\"blue\",\"blue\",\"blue\",\"blue\",\"blue\",\"blue\",\"blue\",\"blue\",\"blue\",\"blue\",\"blue\",\"blue\",\"blue\",\"blue\",\"blue\"],\"line_color\":[\"red\",\"red\",\"red\",\"red\",\"red\",\"red\",\"red\",\"red\",\"red\",\"red\",\"red\",\"red\",\"red\",\"red\",\"red\",\"red\",\"red\",\"red\",\"red\",\"red\",\"red\",\"red\",\"red\",\"red\",\"red\",\"red\",\"red\",\"red\",\"red\",\"red\",\"red\",\"red\",\"red\",\"red\",\"red\",\"red\",\"red\",\"red\",\"red\",\"red\",\"red\",\"red\",\"red\",\"red\",\"red\",\"red\",\"red\",\"red\",\"red\",\"red\",\"green\",\"green\",\"green\",\"green\",\"green\",\"green\",\"green\",\"green\",\"green\",\"green\",\"green\",\"green\",\"green\",\"green\",\"green\",\"green\",\"green\",\"green\",\"green\",\"green\",\"green\",\"green\",\"green\",\"green\",\"green\",\"green\",\"green\",\"green\",\"green\",\"green\",\"green\",\"green\",\"green\",\"green\",\"green\",\"green\",\"green\",\"green\",\"green\",\"green\",\"green\",\"green\",\"green\",\"green\",\"green\",\"green\",\"green\",\"green\",\"green\",\"green\",\"blue\",\"blue\",\"blue\",\"blue\",\"blue\",\"blue\",\"blue\",\"blue\",\"blue\",\"blue\",\"blue\",\"blue\",\"blue\",\"blue\",\"blue\",\"blue\",\"blue\",\"blue\",\"blue\",\"blue\",\"blue\",\"blue\",\"blue\",\"blue\",\"blue\",\"blue\",\"blue\",\"blue\",\"blue\",\"blue\",\"blue\",\"blue\",\"blue\",\"blue\",\"blue\",\"blue\",\"blue\",\"blue\",\"blue\",\"blue\",\"blue\",\"blue\",\"blue\",\"blue\",\"blue\",\"blue\",\"blue\",\"blue\",\"blue\",\"blue\"],\"x\":[1.4,1.4,1.3,1.5,1.4,1.7,1.4,1.5,1.4,1.5,1.5,1.6,1.4,1.1,1.2,1.5,1.3,1.4,1.7,1.5,1.7,1.5,1.0,1.7,1.9,1.6,1.6,1.5,1.4,1.6,1.6,1.5,1.5,1.4,1.5,1.2,1.3,1.4,1.3,1.5,1.3,1.3,1.3,1.6,1.9,1.4,1.6,1.4,1.5,1.4,4.7,4.5,4.9,4.0,4.6,4.5,4.7,3.3,4.6,3.9,3.5,4.2,4.0,4.7,3.6,4.4,4.5,4.1,4.5,3.9,4.8,4.0,4.9,4.7,4.3,4.4,4.8,5.0,4.5,3.5,3.8,3.7,3.9,5.1,4.5,4.5,4.7,4.4,4.1,4.0,4.4,4.6,4.0,3.3,4.2,4.2,4.2,4.3,3.0,4.1,6.0,5.1,5.9,5.6,5.8,6.6,4.5,6.3,5.8,6.1,5.1,5.3,5.5,5.0,5.1,5.3,5.5,6.7,6.9,5.0,5.7,4.9,6.7,4.9,5.7,6.0,4.8,4.9,5.6,5.8,6.1,6.4,5.6,5.1,5.6,6.1,5.6,5.5,4.8,5.4,5.6,5.1,5.1,5.9,5.7,5.2,5.0,5.2,5.4,5.1],\"y\":[0.2,0.2,0.2,0.2,0.2,0.4,0.3,0.2,0.2,0.1,0.2,0.2,0.1,0.1,0.2,0.4,0.4,0.3,0.3,0.3,0.2,0.4,0.2,0.5,0.2,0.2,0.4,0.2,0.2,0.2,0.2,0.4,0.1,0.2,0.2,0.2,0.2,0.1,0.2,0.2,0.3,0.3,0.2,0.6,0.4,0.3,0.2,0.2,0.2,0.2,1.4,1.5,1.5,1.3,1.5,1.3,1.6,1.0,1.3,1.4,1.0,1.5,1.0,1.4,1.3,1.4,1.5,1.0,1.5,1.1,1.8,1.3,1.5,1.2,1.3,1.4,1.4,1.7,1.5,1.0,1.1,1.0,1.2,1.6,1.5,1.6,1.5,1.3,1.3,1.3,1.2,1.4,1.2,1.0,1.3,1.2,1.3,1.3,1.1,1.3,2.5,1.9,2.1,1.8,2.2,2.1,1.7,1.8,1.8,2.5,2.0,1.9,2.1,2.0,2.4,2.3,1.8,2.2,2.3,1.5,2.3,2.0,2.0,1.8,2.1,1.8,1.8,1.8,2.1,1.6,1.9,2.0,2.2,1.5,1.4,2.3,2.4,1.8,1.8,2.1,2.4,2.3,1.9,2.3,2.5,2.3,1.9,2.0,2.3,1.8]}},\"id\":\"57768098-da38-4b77-9a95-62ddf7446c06\",\"type\":\"ColumnDataSource\"},{\"attributes\":{\"below\":[{\"id\":\"1b1f6391-aba4-4eac-bb4c-06a3d04e4552\",\"type\":\"LinearAxis\"}],\"left\":[{\"id\":\"520a4749-e087-4de3-a0b4-e5b18e44fa37\",\"type\":\"LinearAxis\"}],\"plot_height\":700,\"plot_width\":1000,\"renderers\":[{\"id\":\"1b1f6391-aba4-4eac-bb4c-06a3d04e4552\",\"type\":\"LinearAxis\"},{\"id\":\"7ae9d91c-2f82-4a72-9fae-6e35174a14f2\",\"type\":\"Grid\"},{\"id\":\"520a4749-e087-4de3-a0b4-e5b18e44fa37\",\"type\":\"LinearAxis\"},{\"id\":\"8b5a8008-6446-4dd3-8af9-77cd4800f240\",\"type\":\"Grid\"},{\"id\":\"b68440e7-3518-4023-9078-881dd034fa32\",\"type\":\"BoxAnnotation\"},{\"id\":\"bf163fa2-9a82-4b9d-a6c7-75009fa667fd\",\"type\":\"GlyphRenderer\"}],\"title\":\"Iris Morphology\",\"tool_events\":{\"id\":\"8134a6fe-438f-4f8b-be26-4e9f13cb2cfb\",\"type\":\"ToolEvents\"},\"tools\":[{\"id\":\"400911e6-365f-41a0-94c0-0630a4f4db43\",\"type\":\"PanTool\"},{\"id\":\"27ede5c2-dc19-4115-80ea-826cef1531ab\",\"type\":\"WheelZoomTool\"},{\"id\":\"65cc9673-54e5-4f31-abc1-fc2d165589f7\",\"type\":\"BoxZoomTool\"},{\"id\":\"254c8a2a-b3a0-4cf3-8808-d4cd6df9ca42\",\"type\":\"PreviewSaveTool\"},{\"id\":\"a8264d2a-6cf0-4c6a-9670-c839b8817ec2\",\"type\":\"ResizeTool\"},{\"id\":\"ccd16401-a98c-4f1e-a6f1-4a1e8cf6b4b2\",\"type\":\"ResetTool\"},{\"id\":\"29a06ba2-fe42-4471-b9a2-bda2f1104f8d\",\"type\":\"HelpTool\"}],\"x_range\":{\"id\":\"19a3c5e8-6b26-4bc1-b415-8414f366fe9a\",\"type\":\"DataRange1d\"},\"y_range\":{\"id\":\"8976e00a-f7bd-4d82-968f-0e8a2b8184ff\",\"type\":\"DataRange1d\"}},\"id\":\"25fd95ed-075f-4c87-99ac-620886e8333f\",\"subtype\":\"Figure\",\"type\":\"Plot\"}],\"root_ids\":[\"25fd95ed-075f-4c87-99ac-620886e8333f\",\"91c8b801-65dc-4dce-b6ac-71da5aea4afc\",\"7d5debef-d89b-446f-af31-6dafccb550a9\"]},\"title\":\"Bokeh Application\",\"version\":\"0.11.1\"}};\n",
       "            var render_items = [{\"docid\":\"67b4f3c0-a276-4d97-a28e-12492e2a2a49\",\"elementid\":\"f7da8e03-48af-496d-b710-5581b1679e6a\",\"modelid\":\"7d5debef-d89b-446f-af31-6dafccb550a9\",\"notebook_comms_target\":\"923eef08-e4c0-4ce9-9044-fc0bdbd14a16\"}];\n",
       "            \n",
       "            Bokeh.embed.embed_items(docs_json, render_items);\n",
       "        });\n",
       "      },\n",
       "      function(Bokeh) {\n",
       "      }\n",
       "    ];\n",
       "  \n",
       "    function run_inline_js() {\n",
       "      for (var i = 0; i < inline_js.length; i++) {\n",
       "        inline_js[i](window.Bokeh);\n",
       "      }\n",
       "    }\n",
       "  \n",
       "    if (window._bokeh_is_loading === 0) {\n",
       "      console.log(\"Bokeh: BokehJS loaded, going straight to plotting\");\n",
       "      run_inline_js();\n",
       "    } else {\n",
       "      load_libs(js_urls, function() {\n",
       "        console.log(\"Bokeh: BokehJS plotting callback run at\", now());\n",
       "        run_inline_js();\n",
       "      });\n",
       "    }\n",
       "  }(this));\n",
       "</script>"
      ]
     },
     "metadata": {},
     "output_type": "display_data"
    }
   ],
   "source": [
    "colormap = {'setosa': 'red', 'versicolor': 'green', 'virginica': 'blue'}\n",
    "flowers['color'] = flowers['species'].map(lambda x: colormap[x])\n",
    "\n",
    "p = figure(title=\"Iris Morphology\", width=1000, height=700)\n",
    "p.xaxis.axis_label = 'Petal Length'\n",
    "p.yaxis.axis_label = 'Petal Width'\n",
    "\n",
    "p.circle(flowers[\"petal_length\"], flowers[\"petal_width\"],\n",
    "        color=flowers[\"color\"], fill_alpha=0.2, size=10, )\n",
    "\n",
    "show(p);"
   ]
  },
  {
   "cell_type": "code",
   "execution_count": 17,
   "metadata": {
    "collapsed": false,
    "nbpresent": {
     "id": "dac29cf1-f0f2-4d89-9a12-6eedf5af313f"
    }
   },
   "outputs": [
    {
     "name": "stderr",
     "output_type": "stream",
     "text": [
      "/Users/nbollweg/miniconda/envs/nbpresent/lib/python3.5/site-packages/IPython/html.py:14: ShimWarning: The `IPython.html` package has been deprecated. You should import from `notebook` instead. `IPython.html.widgets` has moved to `ipywidgets`.\n",
      "  \"`IPython.html.widgets` has moved to `ipywidgets`.\", ShimWarning)\n"
     ]
    }
   ],
   "source": [
    "from ipywidgets import widgets\n",
    "import numpy as np  \n",
    "import matplotlib.pyplot as plt\n",
    "import pandas\n",
    "import qgrid\n",
    "qgrid.nbinstall(overwrite=True)\n",
    "qgrid.set_defaults(remote_js=True, precision=4)"
   ]
  },
  {
   "cell_type": "code",
   "execution_count": 18,
   "metadata": {
    "collapsed": true,
    "nbpresent": {
     "id": "b5fade96-209a-4a62-bea5-bd231f3dc583"
    }
   },
   "outputs": [],
   "source": [
    "%matplotlib inline"
   ]
  },
  {
   "cell_type": "code",
   "execution_count": 19,
   "metadata": {
    "collapsed": false,
    "nbpresent": {
     "id": "738c9c60-4e56-4357-b895-3e89a7e4cd04"
    }
   },
   "outputs": [
    {
     "data": {
      "image/png": "[encoded data removed]",
      "text/plain": [
       "<matplotlib.figure.Figure at 0x1107f34e0>"
      ]
     },
     "metadata": {},
     "output_type": "display_data"
    }
   ],
   "source": [
    "@widgets.interact\n",
    "def graph(a=10.0, b=2.0):\n",
    "    x = np.array(range(-100, 100))/100\n",
    "    y = np.sin((a * x)**b)\n",
    "    plt.figure(figsize=(16,9))\n",
    "    plt.plot(x, y)\n",
    "    plt.show()"
   ]
  },
  {
   "cell_type": "code",
   "execution_count": 20,
   "metadata": {
    "collapsed": false,
    "nbpresent": {
     "id": "6eed45f4-52ca-4107-91a1-22279a469b1e"
    },
    "scrolled": true
   },
   "outputs": [],
   "source": [
    "df = pandas.DataFrame(\n",
    "    np.random.randn(100, 3)\n",
    ")"
   ]
  },
  {
   "cell_type": "code",
   "execution_count": 21,
   "metadata": {
    "collapsed": false,
    "nbpresent": {
     "id": "6dd75bcd-39e8-4254-a6c8-bbdf55498c5b"
    }
   },
   "outputs": [
    {
     "data": {
      "text/html": [
       "<script type=\"text/javascript\">\n",
       "if ($(\"#dg-css\").length == 0){\n",
       "    $(\"head\").append([\n",
       "        \"<link href='https://cdn.rawgit.com/quantopian/qgrid/72d356cb123fab413dba73ec46616e4916fbd827/qgrid/qgridjs//lib/slick.grid.css' rel='stylesheet'>\",\n",
       "        \"<link href='https://cdn.rawgit.com/quantopian/qgrid/72d356cb123fab413dba73ec46616e4916fbd827/qgrid/qgridjs//lib/slick-default-theme.css' rel='stylesheet'>\",\n",
       "        \"<link href='http://cdnjs.cloudflare.com/ajax/libs/jqueryui/1.10.4/css/jquery-ui.min.css' rel='stylesheet'>\",\n",
       "        \"<link id='dg-css' href='https://cdn.rawgit.com/quantopian/qgrid/72d356cb123fab413dba73ec46616e4916fbd827/qgrid/qgridjs//qgrid.css' rel='stylesheet'>\"\n",
       "    ]);\n",
       "}\n",
       "</script>\n",
       "<div class='q-grid-container'>\n",
       "<div id='c62ef761-0b20-4bd5-8f39-dc94da55f5ef' class='q-grid'></div>\n",
       "</div>"
      ]
     },
     "metadata": {},
     "output_type": "display_data"
    },
    {
     "data": {
      "application/javascript": [
       "var path_dictionary = {\n",
       "    jquery_drag: \"https://cdn.rawgit.com/quantopian/qgrid/72d356cb123fab413dba73ec46616e4916fbd827/qgrid/qgridjs//lib/jquery.event.drag-2.2\",\n",
       "    slick_core: \"https://cdn.rawgit.com/quantopian/qgrid/72d356cb123fab413dba73ec46616e4916fbd827/qgrid/qgridjs//lib/slick.core.2.2\",\n",
       "    slick_data_view: \"https://cdn.rawgit.com/quantopian/qgrid/72d356cb123fab413dba73ec46616e4916fbd827/qgrid/qgridjs//lib/slick.dataview.2.2\",\n",
       "    slick_check_box_column: \"https://cdn.rawgit.com/quantopian/qgrid/72d356cb123fab413dba73ec46616e4916fbd827/qgrid/qgridjs//lib/slick.checkboxselectcolumn\",\n",
       "    slick_row_selection_model: \"https://cdn.rawgit.com/quantopian/qgrid/72d356cb123fab413dba73ec46616e4916fbd827/qgrid/qgridjs//lib/slick.rowselectionmodel\",\n",
       "    slick_grid: \"https://cdn.rawgit.com/quantopian/qgrid/72d356cb123fab413dba73ec46616e4916fbd827/qgrid/qgridjs//lib/slick.grid.2.2\",\n",
       "    data_grid: \"https://cdn.rawgit.com/quantopian/qgrid/72d356cb123fab413dba73ec46616e4916fbd827/qgrid/qgridjs//qgrid\",\n",
       "    date_filter: \"https://cdn.rawgit.com/quantopian/qgrid/72d356cb123fab413dba73ec46616e4916fbd827/qgrid/qgridjs//qgrid.datefilter\",\n",
       "    slider_filter: \"https://cdn.rawgit.com/quantopian/qgrid/72d356cb123fab413dba73ec46616e4916fbd827/qgrid/qgridjs//qgrid.sliderfilter\",\n",
       "    text_filter: \"https://cdn.rawgit.com/quantopian/qgrid/72d356cb123fab413dba73ec46616e4916fbd827/qgrid/qgridjs//qgrid.textfilter\",\n",
       "    filter_base:  \"https://cdn.rawgit.com/quantopian/qgrid/72d356cb123fab413dba73ec46616e4916fbd827/qgrid/qgridjs//qgrid.filterbase\",\n",
       "    handlebars: \"https://cdnjs.cloudflare.com/ajax/libs/handlebars.js/2.0.0/handlebars.min\"\n",
       "};\n",
       "\n",
       "var existing_config = require.s.contexts._.config;\n",
       "if (!existing_config.paths['underscore']){\n",
       "    path_dictionary['underscore'] = \"https://cdnjs.cloudflare.com/ajax/libs/underscore.js/1.7.0/underscore-min\";\n",
       "}\n",
       "\n",
       "if (!existing_config.paths['moment']){\n",
       "    path_dictionary['moment'] = \"https://cdnjs.cloudflare.com/ajax/libs/moment.js/2.8.3/moment.min\";\n",
       "}\n",
       "\n",
       "if (!existing_config.paths['jqueryui']){\n",
       "    path_dictionary['jqueryui'] = \"https://ajax.googleapis.com/ajax/libs/jqueryui/1.11.1/jquery-ui.min\";\n",
       "}\n",
       "\n",
       "require.config({\n",
       "    paths: path_dictionary\n",
       "});\n",
       "\n",
       "if (typeof jQuery === 'function') {\n",
       "    define('jquery', function() { return jQuery; });\n",
       "}\n",
       "\n",
       "require([\n",
       "    'jquery',\n",
       "    'jquery_drag',\n",
       "    'slick_core',\n",
       "    'slick_data_view'\n",
       "],\n",
       "function($){\n",
       "    $('#c62ef761-0b20-4bd5-8f39-dc94da55f5ef').closest('.rendered_html').removeClass('rendered_html');\n",
       "    require([\n",
       "      'slick_check_box_column',\n",
       "      'slick_row_selection_model',\n",
       "      'slick_grid'\n",
       "    ], function(){\n",
       "        require([\"data_grid\"], function(dgrid){\n",
       "            var grid = new dgrid.QGrid('#c62ef761-0b20-4bd5-8f39-dc94da55f5ef', [{\"null\":0,\"0\":0.0999,\"1\":1.3029,\"2\":0.3229},{\"null\":1,\"0\":-0.6819,\"1\":-0.395,\"2\":0.0836},{\"null\":2,\"0\":0.9189,\"1\":0.2721,\"2\":-0.494},{\"null\":3,\"0\":-1.832,\"1\":0.0326,\"2\":-0.5436},{\"null\":4,\"0\":-0.8017,\"1\":-1.2007,\"2\":-1.1461},{\"null\":5,\"0\":0.1888,\"1\":-0.7435,\"2\":1.0982},{\"null\":6,\"0\":0.3283,\"1\":0.725,\"2\":0.6047},{\"null\":7,\"0\":-0.2284,\"1\":-0.304,\"2\":0.4666},{\"null\":8,\"0\":0.1672,\"1\":0.6135,\"2\":0.5545},{\"null\":9,\"0\":-1.1204,\"1\":0.7648,\"2\":0.3754},{\"null\":10,\"0\":0.1513,\"1\":-0.0369,\"2\":-0.5174},{\"null\":11,\"0\":-1.6807,\"1\":-0.6342,\"2\":-1.7699},{\"null\":12,\"0\":-0.2409,\"1\":-1.4295,\"2\":-0.569},{\"null\":13,\"0\":0.8148,\"1\":0.938,\"2\":-0.3882},{\"null\":14,\"0\":-1.4572,\"1\":0.7834,\"2\":0.7136},{\"null\":15,\"0\":-0.7054,\"1\":-0.6461,\"2\":-1.2189},{\"null\":16,\"0\":-1.2074,\"1\":0.9893,\"2\":0.1228},{\"null\":17,\"0\":-0.1284,\"1\":0.5499,\"2\":0.3908},{\"null\":18,\"0\":0.9152,\"1\":-0.9005,\"2\":-0.0966},{\"null\":19,\"0\":0.5723,\"1\":0.4132,\"2\":-1.9466},{\"null\":20,\"0\":-0.1714,\"1\":-0.9865,\"2\":0.8217},{\"null\":21,\"0\":0.5071,\"1\":0.872,\"2\":0.2973},{\"null\":22,\"0\":0.495,\"1\":0.8019,\"2\":-0.8351},{\"null\":23,\"0\":0.712,\"1\":1.5285,\"2\":0.8313},{\"null\":24,\"0\":0.2101,\"1\":0.4906,\"2\":0.4294},{\"null\":25,\"0\":0.1264,\"1\":0.8615,\"2\":2.086},{\"null\":26,\"0\":-0.9209,\"1\":-0.8523,\"2\":-0.5848},{\"null\":27,\"0\":-0.6372,\"1\":0.1262,\"2\":-0.108},{\"null\":28,\"0\":0.1703,\"1\":-0.4734,\"2\":-1.4614},{\"null\":29,\"0\":-1.0609,\"1\":-0.187,\"2\":2.006},{\"null\":30,\"0\":-0.4818,\"1\":0.8651,\"2\":1.4268},{\"null\":31,\"0\":-0.9715,\"1\":1.6983,\"2\":0.6656},{\"null\":32,\"0\":-0.5617,\"1\":0.1863,\"2\":-2.7018},{\"null\":33,\"0\":-2.7991,\"1\":0.1893,\"2\":-0.3023},{\"null\":34,\"0\":-0.5904,\"1\":-1.078,\"2\":-2.1153},{\"null\":35,\"0\":-0.1899,\"1\":0.1492,\"2\":0.9512},{\"null\":36,\"0\":-0.4077,\"1\":2.3257,\"2\":-2.5397},{\"null\":37,\"0\":-1.9095,\"1\":-2.5701,\"2\":0.164},{\"null\":38,\"0\":-0.5029,\"1\":0.793,\"2\":-0.1534},{\"null\":39,\"0\":0.2463,\"1\":0.6669,\"2\":-1.2501},{\"null\":40,\"0\":0.0391,\"1\":-0.2457,\"2\":0.4899},{\"null\":41,\"0\":0.92,\"1\":-0.7487,\"2\":-1.2082},{\"null\":42,\"0\":-0.1709,\"1\":-0.7618,\"2\":-1.5483},{\"null\":43,\"0\":-0.614,\"1\":0.3774,\"2\":0.8014},{\"null\":44,\"0\":-0.8311,\"1\":0.5329,\"2\":-0.5868},{\"null\":45,\"0\":-1.3813,\"1\":-0.3122,\"2\":1.3578},{\"null\":46,\"0\":1.4728,\"1\":1.7565,\"2\":1.3109},{\"null\":47,\"0\":1.0784,\"1\":0.2297,\"2\":-0.1547},{\"null\":48,\"0\":-0.2265,\"1\":0.408,\"2\":1.2028},{\"null\":49,\"0\":-0.9928,\"1\":-0.0704,\"2\":1.2813},{\"null\":50,\"0\":-0.3508,\"1\":0.7487,\"2\":0.0653},{\"null\":51,\"0\":0.1787,\"1\":2.3255,\"2\":-0.0714},{\"null\":52,\"0\":-0.8787,\"1\":-0.1065,\"2\":0.7099},{\"null\":53,\"0\":0.0182,\"1\":0.3124,\"2\":2.2929},{\"null\":54,\"0\":-0.2512,\"1\":-0.7695,\"2\":1.6504},{\"null\":55,\"0\":-1.2055,\"1\":0.0006,\"2\":-2.2399},{\"null\":56,\"0\":0.8347,\"1\":1.4553,\"2\":-1.2992},{\"null\":57,\"0\":-0.896,\"1\":2.0669,\"2\":-0.3305},{\"null\":58,\"0\":-1.4619,\"1\":-1.4956,\"2\":0.1045},{\"null\":59,\"0\":0.3589,\"1\":-1.589,\"2\":-0.4281},{\"null\":60,\"0\":0.0315,\"1\":0.7446,\"2\":-0.998},{\"null\":61,\"0\":1.0005,\"1\":0.2966,\"2\":0.0838},{\"null\":62,\"0\":0.1612,\"1\":-0.4973,\"2\":-1.5433},{\"null\":63,\"0\":-1.1146,\"1\":-1.2147,\"2\":0.5072},{\"null\":64,\"0\":0.0487,\"1\":0.4569,\"2\":-0.9277},{\"null\":65,\"0\":-1.3937,\"1\":1.2087,\"2\":0.3933},{\"null\":66,\"0\":0.0376,\"1\":0.6782,\"2\":0.3913},{\"null\":67,\"0\":0.2092,\"1\":-1.7952,\"2\":-0.0833},{\"null\":68,\"0\":-0.1857,\"1\":-0.584,\"2\":2.6126},{\"null\":69,\"0\":-0.7918,\"1\":1.2523,\"2\":-0.4058},{\"null\":70,\"0\":-0.6501,\"1\":-0.9008,\"2\":0.5501},{\"null\":71,\"0\":-0.0241,\"1\":-0.0608,\"2\":0.6808},{\"null\":72,\"0\":0.7701,\"1\":-0.8012,\"2\":-3.0681},{\"null\":73,\"0\":-0.1257,\"1\":1.4389,\"2\":-1.5066},{\"null\":74,\"0\":-0.8477,\"1\":-0.869,\"2\":-0.7695},{\"null\":75,\"0\":-0.6864,\"1\":0.2691,\"2\":-0.1754},{\"null\":76,\"0\":-0.6446,\"1\":1.0743,\"2\":0.7865},{\"null\":77,\"0\":-0.0078,\"1\":1.5011,\"2\":-0.7479},{\"null\":78,\"0\":1.2773,\"1\":-0.4571,\"2\":-2.6044},{\"null\":79,\"0\":-0.7003,\"1\":-0.5265,\"2\":1.8866},{\"null\":80,\"0\":-0.8732,\"1\":-0.3975,\"2\":-0.4979},{\"null\":81,\"0\":1.3504,\"1\":-0.1892,\"2\":-1.6058},{\"null\":82,\"0\":-0.0389,\"1\":0.3471,\"2\":-0.8717},{\"null\":83,\"0\":-1.1037,\"1\":-0.3086,\"2\":-1.073},{\"null\":84,\"0\":0.0336,\"1\":-0.1877,\"2\":1.2899},{\"null\":85,\"0\":-0.7012,\"1\":0.1996,\"2\":-1.8907},{\"null\":86,\"0\":-1.1833,\"1\":-1.4723,\"2\":1.3332},{\"null\":87,\"0\":-0.7631,\"1\":0.7116,\"2\":-0.7289},{\"null\":88,\"0\":-1.4682,\"1\":2.8459,\"2\":-0.2341},{\"null\":89,\"0\":-0.7407,\"1\":-0.7472,\"2\":-2.3956},{\"null\":90,\"0\":0.3784,\"1\":-1.3519,\"2\":-1.1301},{\"null\":91,\"0\":1.4191,\"1\":0.6525,\"2\":-0.2149},{\"null\":92,\"0\":0.5664,\"1\":-0.0529,\"2\":-0.4552},{\"null\":93,\"0\":-2.7423,\"1\":0.0833,\"2\":-0.4069},{\"null\":94,\"0\":-0.0141,\"1\":-0.0565,\"2\":0.8518},{\"null\":95,\"0\":0.3151,\"1\":1.756,\"2\":-1.3741},{\"null\":96,\"0\":0.2634,\"1\":-2.0393,\"2\":-0.7753},{\"null\":97,\"0\":-0.8009,\"1\":1.2584,\"2\":1.6634},{\"null\":98,\"0\":0.5862,\"1\":-0.296,\"2\":1.4995},{\"null\":99,\"0\":0.4894,\"1\":0.085,\"2\":-0.1256}], [{\"type\": \"Integer\", \"field\": null}, {\"type\": \"Float\", \"field\": 0}, {\"type\": \"Float\", \"field\": 1}, {\"type\": \"Float\", \"field\": 2}]);\n",
       "            grid.initialize_slick_grid({\"forceFitColumns\": true, \"enableTextSelectionOnCells\": true, \"enableColumnReorder\": false, \"rowHeight\": 28, \"fullWidthRows\": true, \"syncColumnCellResize\": true});\n",
       "        });\n",
       "    });\n",
       "});\n"
      ]
     },
     "metadata": {},
     "output_type": "display_data"
    }
   ],
   "source": [
    "qgrid.show_grid(df)"
   ]
  },
  {
   "cell_type": "code",
   "execution_count": 22,
   "metadata": {
    "collapsed": false,
    "nbpresent": {
     "id": "7c304e12-6bde-4b33-bc85-035f13e36fb3"
    }
   },
   "outputs": [
    {
     "data": {
      "text/html": [
       "<script type=\"text/javascript\">\n",
       "if ($(\"#dg-css\").length == 0){\n",
       "    $(\"head\").append([\n",
       "        \"<link href='https://cdn.rawgit.com/quantopian/qgrid/72d356cb123fab413dba73ec46616e4916fbd827/qgrid/qgridjs//lib/slick.grid.css' rel='stylesheet'>\",\n",
       "        \"<link href='https://cdn.rawgit.com/quantopian/qgrid/72d356cb123fab413dba73ec46616e4916fbd827/qgrid/qgridjs//lib/slick-default-theme.css' rel='stylesheet'>\",\n",
       "        \"<link href='http://cdnjs.cloudflare.com/ajax/libs/jqueryui/1.10.4/css/jquery-ui.min.css' rel='stylesheet'>\",\n",
       "        \"<link id='dg-css' href='https://cdn.rawgit.com/quantopian/qgrid/72d356cb123fab413dba73ec46616e4916fbd827/qgrid/qgridjs//qgrid.css' rel='stylesheet'>\"\n",
       "    ]);\n",
       "}\n",
       "</script>\n",
       "<div class='q-grid-container'>\n",
       "<div id='300df439-e834-44de-96f3-82e9ad0e02af' class='q-grid'></div>\n",
       "</div>"
      ]
     },
     "metadata": {},
     "output_type": "display_data"
    },
    {
     "data": {
      "application/javascript": [
       "var path_dictionary = {\n",
       "    jquery_drag: \"https://cdn.rawgit.com/quantopian/qgrid/72d356cb123fab413dba73ec46616e4916fbd827/qgrid/qgridjs//lib/jquery.event.drag-2.2\",\n",
       "    slick_core: \"https://cdn.rawgit.com/quantopian/qgrid/72d356cb123fab413dba73ec46616e4916fbd827/qgrid/qgridjs//lib/slick.core.2.2\",\n",
       "    slick_data_view: \"https://cdn.rawgit.com/quantopian/qgrid/72d356cb123fab413dba73ec46616e4916fbd827/qgrid/qgridjs//lib/slick.dataview.2.2\",\n",
       "    slick_check_box_column: \"https://cdn.rawgit.com/quantopian/qgrid/72d356cb123fab413dba73ec46616e4916fbd827/qgrid/qgridjs//lib/slick.checkboxselectcolumn\",\n",
       "    slick_row_selection_model: \"https://cdn.rawgit.com/quantopian/qgrid/72d356cb123fab413dba73ec46616e4916fbd827/qgrid/qgridjs//lib/slick.rowselectionmodel\",\n",
       "    slick_grid: \"https://cdn.rawgit.com/quantopian/qgrid/72d356cb123fab413dba73ec46616e4916fbd827/qgrid/qgridjs//lib/slick.grid.2.2\",\n",
       "    data_grid: \"https://cdn.rawgit.com/quantopian/qgrid/72d356cb123fab413dba73ec46616e4916fbd827/qgrid/qgridjs//qgrid\",\n",
       "    date_filter: \"https://cdn.rawgit.com/quantopian/qgrid/72d356cb123fab413dba73ec46616e4916fbd827/qgrid/qgridjs//qgrid.datefilter\",\n",
       "    slider_filter: \"https://cdn.rawgit.com/quantopian/qgrid/72d356cb123fab413dba73ec46616e4916fbd827/qgrid/qgridjs//qgrid.sliderfilter\",\n",
       "    text_filter: \"https://cdn.rawgit.com/quantopian/qgrid/72d356cb123fab413dba73ec46616e4916fbd827/qgrid/qgridjs//qgrid.textfilter\",\n",
       "    filter_base:  \"https://cdn.rawgit.com/quantopian/qgrid/72d356cb123fab413dba73ec46616e4916fbd827/qgrid/qgridjs//qgrid.filterbase\",\n",
       "    handlebars: \"https://cdnjs.cloudflare.com/ajax/libs/handlebars.js/2.0.0/handlebars.min\"\n",
       "};\n",
       "\n",
       "var existing_config = require.s.contexts._.config;\n",
       "if (!existing_config.paths['underscore']){\n",
       "    path_dictionary['underscore'] = \"https://cdnjs.cloudflare.com/ajax/libs/underscore.js/1.7.0/underscore-min\";\n",
       "}\n",
       "\n",
       "if (!existing_config.paths['moment']){\n",
       "    path_dictionary['moment'] = \"https://cdnjs.cloudflare.com/ajax/libs/moment.js/2.8.3/moment.min\";\n",
       "}\n",
       "\n",
       "if (!existing_config.paths['jqueryui']){\n",
       "    path_dictionary['jqueryui'] = \"https://ajax.googleapis.com/ajax/libs/jqueryui/1.11.1/jquery-ui.min\";\n",
       "}\n",
       "\n",
       "require.config({\n",
       "    paths: path_dictionary\n",
       "});\n",
       "\n",
       "if (typeof jQuery === 'function') {\n",
       "    define('jquery', function() { return jQuery; });\n",
       "}\n",
       "\n",
       "require([\n",
       "    'jquery',\n",
       "    'jquery_drag',\n",
       "    'slick_core',\n",
       "    'slick_data_view'\n",
       "],\n",
       "function($){\n",
       "    $('#300df439-e834-44de-96f3-82e9ad0e02af').closest('.rendered_html').removeClass('rendered_html');\n",
       "    require([\n",
       "      'slick_check_box_column',\n",
       "      'slick_row_selection_model',\n",
       "      'slick_grid'\n",
       "    ], function(){\n",
       "        require([\"data_grid\"], function(dgrid){\n",
       "            var grid = new dgrid.QGrid('#300df439-e834-44de-96f3-82e9ad0e02af', [{\"null\":\"count\",\"0\":100.0,\"1\":100.0,\"2\":100.0},{\"null\":\"mean\",\"0\":-0.2769,\"1\":0.1267,\"2\":-0.1501},{\"null\":\"std\",\"0\":0.8396,\"1\":0.9996,\"2\":1.1891},{\"null\":\"min\",\"0\":-2.7991,\"1\":-2.5701,\"2\":-3.0681},{\"null\":\"25%\",\"0\":-0.809,\"1\":-0.5409,\"2\":-0.8857},{\"null\":\"50%\",\"0\":-0.1878,\"1\":0.1377,\"2\":-0.1395},{\"null\":\"75%\",\"0\":0.2191,\"1\":0.7527,\"2\":0.6694},{\"null\":\"max\",\"0\":1.4728,\"1\":2.8459,\"2\":2.6126}], [{\"field\": null}, {\"type\": \"Float\", \"field\": 0}, {\"type\": \"Float\", \"field\": 1}, {\"type\": \"Float\", \"field\": 2}]);\n",
       "            grid.initialize_slick_grid({\"forceFitColumns\": true, \"enableTextSelectionOnCells\": true, \"enableColumnReorder\": false, \"rowHeight\": 28, \"fullWidthRows\": true, \"syncColumnCellResize\": true});\n",
       "        });\n",
       "    });\n",
       "});\n"
      ]
     },
     "metadata": {},
     "output_type": "display_data"
    }
   ],
   "source": [
    "qgrid.show_grid(df.describe())"
   ]
  }
 ],
 "metadata": {
  "anaconda-cloud": {},
  "celltoolbar": "nbpresent",
  "kernelspec": {
   "display_name": "Python 3",
   "language": "python",
   "name": "python3"
  },
  "language_info": {
   "codemirror_mode": {
    "name": "ipython",
    "version": 3
   },
   "file_extension": ".py",
   "mimetype": "text/x-python",
   "name": "python",
   "nbconvert_exporter": "python",
   "pygments_lexer": "ipython3",
   "version": "3.5.1"
  },
  "nbpresent": {
   "slides": {
    "6df5fd17-0f7e-419b-b321-f3262a9c60ec": {
     "id": "6df5fd17-0f7e-419b-b321-f3262a9c60ec",
     "prev": "f7b4eb35-7e20-4ebc-a0da-edb5d9a2cf88",
     "regions": {
      "2d53c2ce-3c65-4df6-a4f9-4457e951837f": {
       "attrs": {
        "height": 1,
        "width": 1,
        "x": 0,
        "y": 0
       },
       "content": {
        "cell": "7d0e1892-a7c0-467f-abfc-259acf3e117d",
        "part": "outputs"
       },
       "id": "2d53c2ce-3c65-4df6-a4f9-4457e951837f"
      }
     }
    },
    "e3507ee6-2947-41f5-8bf7-14ce8236eb7f": {
     "id": "e3507ee6-2947-41f5-8bf7-14ce8236eb7f",
     "layout": "grid",
     "prev": "6df5fd17-0f7e-419b-b321-f3262a9c60ec",
     "regions": {
      "1279b40c-ac25-43c9-b776-e526f132f3e0": {
       "attrs": {
        "height": 0.8333333333333334,
        "pad": 0.01,
        "width": 0.8333333333333334,
        "x": 0.08333333333333333,
        "y": 0.16666666666666666
       },
       "content": {
        "cell": "738c9c60-4e56-4357-b895-3e89a7e4cd04",
        "part": "outputs"
       },
       "id": "1279b40c-ac25-43c9-b776-e526f132f3e0"
      },
      "97b1fa03-ab3b-42ee-b881-c3ae53fa1962": {
       "attrs": {
        "height": 0.1663894433355511,
        "pad": 0.01,
        "width": 0.4166666666666667,
        "x": 0.16666666666666666,
        "y": 0
       },
       "content": {
        "cell": "738c9c60-4e56-4357-b895-3e89a7e4cd04",
        "part": "widgets"
       },
       "id": "97b1fa03-ab3b-42ee-b881-c3ae53fa1962"
      }
     }
    },
    "f7b4eb35-7e20-4ebc-a0da-edb5d9a2cf88": {
     "id": "f7b4eb35-7e20-4ebc-a0da-edb5d9a2cf88",
     "layout": "grid",
     "prev": null,
     "regions": {
      "41c8db91-2fce-44b7-bba7-e1e9104c7983": {
       "attrs": {
        "height": 0.4166666666666667,
        "pad": 0.01,
        "width": 0.4166666666666667,
        "x": 0.08333333333333333,
        "y": 0.25
       },
       "content": {
        "cell": "08a1edb2-7b57-4697-be93-a89ee6aa355e",
        "part": "source"
       },
       "id": "41c8db91-2fce-44b7-bba7-e1e9104c7983"
      },
      "c287569c-bd27-4ae4-a165-92cec792f4df": {
       "attrs": {
        "height": 0.16666666666666666,
        "pad": 0.01,
        "width": 0.4166666666666667,
        "x": 0.08283433133732535,
        "y": 0
       },
       "content": {
        "cell": "8438b2c1-2e72-40e6-bfd4-89a9bff2628e",
        "part": "source"
       },
       "id": "c287569c-bd27-4ae4-a165-92cec792f4df"
      }
     }
    }
   },
   "themes": {
    "default": "fca693f2-fabc-451f-a567-45cb0c97f0c2",
    "theme": {
     "fca693f2-fabc-451f-a567-45cb0c97f0c2": {
      "id": "fca693f2-fabc-451f-a567-45cb0c97f0c2",
      "palette": {
       "19cc588f-0593-49c9-9f4b-e4d7cc113b1c": {
        "id": "19cc588f-0593-49c9-9f4b-e4d7cc113b1c",
        "rgb": [
         252,
         252,
         252
        ]
       },
       "31af15d2-7e15-44c5-ab5e-e04b16a89eff": {
        "id": "31af15d2-7e15-44c5-ab5e-e04b16a89eff",
        "rgb": [
         68,
         68,
         68
        ]
       },
       "50f92c45-a630-455b-aec3-788680ec7410": {
        "id": "50f92c45-a630-455b-aec3-788680ec7410",
        "rgb": [
         155,
         177,
         192
        ]
       },
       "c5cc3653-2ee1-402a-aba2-7caae1da4f6c": {
        "id": "c5cc3653-2ee1-402a-aba2-7caae1da4f6c",
        "rgb": [
         43,
         126,
         184
        ]
       },
       "efa7f048-9acb-414c-8b04-a26811511a21": {
        "id": "efa7f048-9acb-414c-8b04-a26811511a21",
        "rgb": [
         25.118061674008803,
         73.60176211453744,
         107.4819383259912
        ]
       }
      },
      "rules": {
       "blockquote": {
        "color": "50f92c45-a630-455b-aec3-788680ec7410"
       },
       "code": {
        "font-family": "Anonymous Pro"
       },
       "h1": {
        "color": "c5cc3653-2ee1-402a-aba2-7caae1da4f6c",
        "font-family": "Lato",
        "font-size": 8
       },
       "h2": {
        "color": "c5cc3653-2ee1-402a-aba2-7caae1da4f6c",
        "font-family": "Lato",
        "font-size": 6
       },
       "h3": {
        "color": "50f92c45-a630-455b-aec3-788680ec7410",
        "font-family": "Lato",
        "font-size": 5.5
       },
       "h4": {
        "color": "c5cc3653-2ee1-402a-aba2-7caae1da4f6c",
        "font-family": "Lato",
        "font-size": 5
       },
       "h5": {
        "font-family": "Lato"
       },
       "h6": {
        "font-family": "Lato"
       },
       "h7": {
        "font-family": "Lato"
       },
       "pre": {
        "font-family": "Anonymous Pro",
        "font-size": 4
       }
      },
      "text-base": {
       "font-family": "Merriweather",
       "font-size": 4
      }
     }
    }
   }
  }
 },
 "nbformat": 4,
 "nbformat_minor": 0
}
